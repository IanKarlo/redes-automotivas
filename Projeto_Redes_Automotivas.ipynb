{
  "cells": [
    {
      "cell_type": "code",
      "execution_count": null,
      "metadata": {
        "id": "aUaqnXUxT59G"
      },
      "outputs": [],
      "source": [
        "import torch\n",
        "from torch import nn\n",
        "import matplotlib.pyplot as plt"
      ]
    },
    {
      "cell_type": "markdown",
      "metadata": {
        "id": "iBEHq5En1NYU"
      },
      "source": [
        "# Data Augmentation\n",
        "\n",
        "Inicialmente"
      ]
    },
    {
      "cell_type": "code",
      "execution_count": null,
      "metadata": {
        "colab": {
          "base_uri": "https://localhost:8080/"
        },
        "id": "xZ4mqvsndFH3",
        "outputId": "0c001896-7135-496f-c26a-e197f1b0ee47"
      },
      "outputs": [
        {
          "output_type": "stream",
          "name": "stdout",
          "text": [
            "Mounted at /content/drive\n"
          ]
        }
      ],
      "source": [
        "from google.colab import drive\n",
        "drive.mount('/content/drive')"
      ]
    },
    {
      "cell_type": "markdown",
      "metadata": {
        "id": "rqZkk1WUDd2a"
      },
      "source": [
        "montando os arquivos csv"
      ]
    },
    {
      "cell_type": "code",
      "execution_count": null,
      "metadata": {
        "id": "18hwpVa157rQ"
      },
      "outputs": [],
      "source": [
        "# import csv\n",
        "# import re\n",
        "\n",
        "FOLDER_PATH = '/content/drive/MyDrive/Datasets/redes_automotivas'\n",
        "\n",
        "file_names = ['NORMAL_SAMPLES.txt', 'FALSIFYING_ATCK.txt', 'FUZZING_ATCK.txt', 'IMPERSONATION_ATCK.txt', 'DOS_ATCK.txt']\n",
        "\n",
        "# txt_files_content = []\n",
        "\n",
        "column_titles = [\"timestamp\", \"net\", \"data\", \"label\"]\n",
        "\n",
        "# for file_name in file_names:\n",
        "#   txt_file_path = FOLDER_PATH + '/' + file_name\n",
        "#   # Read the content of the TXT file\n",
        "#   with open(txt_file_path, 'r') as file:\n",
        "#       txt_files_content.append(file.readlines())\n",
        "\n",
        "# for count, txt_file_content in enumerate(txt_files_content):\n",
        "#   csv_file_path = FOLDER_PATH + '/CSV/' + file_names[count].split('.')[0] + '.csv'\n",
        "#   with open(csv_file_path, 'w', newline='') as csvfile:\n",
        "#       csvwriter = csv.writer(csvfile)\n",
        "#       csvwriter.writerow(column_titles)\n",
        "#       for line in txt_file_content:\n",
        "#           row = re.split(r'\\s+', line.strip())  # Split by one or more whitespace characters\n",
        "#           csvwriter.writerow(row)\n",
        "\n",
        "\n",
        "\n"
      ]
    },
    {
      "cell_type": "markdown",
      "metadata": {
        "id": "yZiSP4WGEo_M"
      },
      "source": [
        "Montando os datasets"
      ]
    },
    {
      "cell_type": "code",
      "execution_count": null,
      "metadata": {
        "id": "V4jPtqr8EqnP"
      },
      "outputs": [],
      "source": [
        "import pandas as pd\n",
        "\n",
        "classes = {\n",
        "  'normal': 0,\n",
        "  'DOS': 1,\n",
        "  'FUZZ': 2,\n",
        "  'IMPERSONATION': 3,\n",
        "  'FALSIFYING': 4\n",
        "}\n",
        "\n",
        "def create_matrices_and_labels(df, class_t, num_rows=28, overlap=14):\n",
        "    matrices = []\n",
        "    labels = []\n",
        "    step_size = num_rows - overlap  # Tamanho do passo para a sobreposição\n",
        "\n",
        "    num_matrices = (len(df) - overlap) // step_size\n",
        "    print('num_matrices:', num_matrices)\n",
        "\n",
        "    for i in range(num_matrices):\n",
        "        start_idx = i * step_size\n",
        "        block = df.iloc[start_idx:start_idx + num_rows]\n",
        "        if block.empty or len(block) < num_rows:\n",
        "            continue\n",
        "\n",
        "        binary_matrix = []\n",
        "        for hex_value in block['data']:\n",
        "            hex_value = hex_value.split('#')[0]\n",
        "            binary_string = bin(int(hex_value, 16))[2:].zfill(16)\n",
        "            binary_list = [int(bit) for bit in binary_string]\n",
        "            binary_matrix.append(binary_list)\n",
        "\n",
        "        if len(binary_matrix) == num_rows and all(len(row) == 16 for row in binary_matrix):\n",
        "            matrix = torch.tensor(binary_matrix, dtype=torch.float32)\n",
        "            label = classes[class_t] if 'T' in block['label'].values else 0\n",
        "            matrices.append(matrix)\n",
        "            labels.append(label)\n",
        "\n",
        "    return matrices, labels"
      ]
    },
    {
      "cell_type": "code",
      "execution_count": null,
      "metadata": {
        "colab": {
          "base_uri": "https://localhost:8080/"
        },
        "id": "AXvXZORsdzij",
        "outputId": "faff082b-eef6-4c0b-deb9-326aaf8830d6"
      },
      "outputs": [
        {
          "output_type": "stream",
          "name": "stdout",
          "text": [
            "num_matrices: 17856\n"
          ]
        },
        {
          "output_type": "execute_result",
          "data": {
            "text/plain": [
              "(17856, 17856)"
            ]
          },
          "metadata": {},
          "execution_count": 5
        }
      ],
      "source": [
        "normal_df = pd.read_csv(FOLDER_PATH + '/CSV/' + 'NORMAL_SAMPLES.csv')\n",
        "\n",
        "normalized_df, labels = create_matrices_and_labels(normal_df, 'normal')\n",
        "\n",
        "len(normalized_df), len(labels)\n",
        "# normal_df.head()"
      ]
    },
    {
      "cell_type": "code",
      "execution_count": null,
      "metadata": {
        "colab": {
          "base_uri": "https://localhost:8080/"
        },
        "id": "kluFYH1_jRCE",
        "outputId": "f7073431-0df4-434d-cce4-f3876c2e6ddc"
      },
      "outputs": [
        {
          "output_type": "stream",
          "name": "stdout",
          "text": [
            "num_matrices: 49999\n",
            "num_matrices: 49999\n",
            "num_matrices: 49999\n",
            "num_matrices: 49999\n"
          ]
        }
      ],
      "source": [
        "dos_df = pd.read_csv(FOLDER_PATH + '/CSV/' + 'DOS_ATCK.csv')\n",
        "normalized_df_dos, labels_dos = create_matrices_and_labels(dos_df, 'DOS')\n",
        "\n",
        "fuzz_df = pd.read_csv(FOLDER_PATH + '/CSV/' + 'FUZZING_ATCK.csv')\n",
        "normalized_df_fuzz, labels_fuzz = create_matrices_and_labels(fuzz_df, 'FUZZ')\n",
        "\n",
        "impersonation_df = pd.read_csv(FOLDER_PATH + '/CSV/' + 'IMPERSONATION_ATCK.csv')\n",
        "normalized_df_impersonation, labels_impersonation = create_matrices_and_labels(impersonation_df, 'IMPERSONATION')\n",
        "\n",
        "false_df = pd.read_csv(FOLDER_PATH + '/CSV/' + 'FALSIFYING_ATCK.csv')\n",
        "normalized_df_false, labels_false = create_matrices_and_labels(false_df, 'FALSIFYING')"
      ]
    },
    {
      "cell_type": "code",
      "execution_count": null,
      "metadata": {
        "colab": {
          "base_uri": "https://localhost:8080/"
        },
        "id": "yAVe3WRikJIB",
        "outputId": "82e04ae0-2e7d-4427-cf8e-f1334eda616f"
      },
      "outputs": [
        {
          "output_type": "execute_result",
          "data": {
            "text/plain": [
              "(49999, 49999, 49999, 49999)"
            ]
          },
          "metadata": {},
          "execution_count": 7
        }
      ],
      "source": [
        "len(normalized_df_dos), len(normalized_df_fuzz), len(normalized_df_impersonation), len(normalized_df_false)"
      ]
    },
    {
      "cell_type": "code",
      "execution_count": null,
      "metadata": {
        "id": "S_F7fuZA8k_6"
      },
      "outputs": [],
      "source": [
        "from sklearn.model_selection import train_test_split\n",
        "\n",
        "normal_df_train, normal_df_val, labels_train, labels_val = train_test_split(normalized_df, labels, test_size=0.25, random_state=42)\n",
        "dos_df_train, dos_df_val, labels_train_dos, labels_val_dos = train_test_split(normalized_df_dos, labels_dos, test_size=0.25, random_state=42)\n",
        "fuzz_df_train, fuzz_df_val, labels_train_fuzz, labels_val_fuzz = train_test_split(normalized_df_fuzz, labels_fuzz, test_size=0.25, random_state=42)\n",
        "impersonation_df_train, impersonation_df_val, labels_train_impersonation, labels_val_impersonation = train_test_split(normalized_df_impersonation, labels_impersonation, test_size=0.25, random_state=42)\n",
        "false_df_train, false_df_val, labels_train_false, labels_val_false = train_test_split(normalized_df_false, labels_false, test_size=0.25, random_state=42)\n",
        "\n",
        "\n"
      ]
    },
    {
      "cell_type": "code",
      "execution_count": null,
      "metadata": {
        "id": "YwAUSgz8mr2S"
      },
      "outputs": [],
      "source": [
        "#train\n",
        "all_matrices_train = normal_df_train + dos_df_train + fuzz_df_train + impersonation_df_train + false_df_train\n",
        "all_labels_train = labels_train + labels_train_dos + labels_train_fuzz + labels_train_impersonation + labels_train_false\n",
        "\n",
        "#validation\n",
        "all_matrices_validation = normal_df_val + dos_df_val + fuzz_df_val + impersonation_df_val + false_df_val\n",
        "all_labels_validation = labels_val + labels_val_dos + labels_val_fuzz + labels_val_impersonation + labels_val_false"
      ]
    },
    {
      "cell_type": "code",
      "execution_count": null,
      "metadata": {
        "colab": {
          "base_uri": "https://localhost:8080/"
        },
        "id": "OSfgiWHT_BDr",
        "outputId": "b8a13e1d-b7c6-4a78-a193-52dbc3eac673"
      },
      "outputs": [
        {
          "output_type": "execute_result",
          "data": {
            "text/plain": [
              "{int}"
            ]
          },
          "metadata": {},
          "execution_count": 10
        }
      ],
      "source": [
        "types_set = set()\n",
        "\n",
        "for x in all_labels_train:\n",
        "  types_set.add(type(x))\n",
        "\n",
        "types_set"
      ]
    },
    {
      "cell_type": "code",
      "execution_count": null,
      "metadata": {
        "id": "Md5XROTwm4JS"
      },
      "outputs": [],
      "source": [
        "from torch.utils.data import Dataset\n",
        "\n",
        "class CustomDataset(Dataset):\n",
        "    def __init__(self, matrices, labels):\n",
        "        self.matrices = matrices\n",
        "        self.labels = labels\n",
        "\n",
        "    def __len__(self):\n",
        "        return len(self.matrices)\n",
        "\n",
        "    def __getitem__(self, idx):\n",
        "        matrix = self.matrices[idx]\n",
        "        label = self.labels[idx]\n",
        "        return matrix, label"
      ]
    },
    {
      "cell_type": "code",
      "execution_count": null,
      "metadata": {
        "id": "BB6wVGhvm8B7"
      },
      "outputs": [],
      "source": [
        "from torch.utils.data import DataLoader\n",
        "\n",
        "# Criar uma instância do dataset de treino\n",
        "train_dataset = CustomDataset(all_matrices_train, all_labels_train)\n",
        "\n",
        "# Criar o DataLoader\n",
        "dataloader_train = DataLoader(train_dataset, batch_size=32, shuffle=True)\n",
        "\n",
        "\n",
        "# Criar uma instância do dataset de validação\n",
        "validation_dataset = CustomDataset(all_matrices_validation, all_labels_validation)\n",
        "\n",
        "# Criar o DataLoader\n",
        "dataloader_validation = DataLoader(validation_dataset, batch_size=32, shuffle=True)"
      ]
    },
    {
      "cell_type": "code",
      "execution_count": null,
      "metadata": {
        "colab": {
          "base_uri": "https://localhost:8080/"
        },
        "id": "bRRHhliKnC37",
        "outputId": "3eeb4a2e-0237-4192-d3fe-e9f27aef434c"
      },
      "outputs": [
        {
          "output_type": "stream",
          "name": "stdout",
          "text": [
            "Batch 1:\n",
            "Batch matrices shape: torch.Size([32, 28, 16])\n",
            "Batch labels: tensor([4, 3, 2, 4, 3, 3, 2, 1, 4, 1, 0, 3, 3, 3, 2, 1, 4, 1, 0, 4, 2, 1, 4, 3,\n",
            "        4, 2, 4, 2, 1, 3, 4, 1])\n",
            "Batch 2:\n",
            "Batch matrices shape: torch.Size([32, 28, 16])\n",
            "Batch labels: tensor([1, 1, 3, 3, 3, 4, 4, 2, 4, 3, 2, 3, 3, 3, 1, 2, 4, 3, 0, 1, 2, 2, 4, 4,\n",
            "        3, 2, 2, 1, 4, 3, 4, 2])\n",
            "Batch 3:\n",
            "Batch matrices shape: torch.Size([32, 28, 16])\n",
            "Batch labels: tensor([4, 3, 4, 0, 3, 4, 3, 3, 2, 3, 2, 4, 3, 2, 1, 3, 4, 3, 4, 4, 2, 2, 4, 3,\n",
            "        3, 3, 1, 3, 2, 1, 4, 0])\n",
            "Batch 4:\n",
            "Batch matrices shape: torch.Size([32, 28, 16])\n",
            "Batch labels: tensor([4, 1, 3, 4, 1, 1, 2, 4, 1, 1, 2, 1, 4, 2, 1, 0, 4, 2, 3, 4, 0, 1, 1, 0,\n",
            "        4, 3, 1, 3, 0, 3, 4, 1])\n",
            "Batch 5:\n",
            "Batch matrices shape: torch.Size([32, 28, 16])\n",
            "Batch labels: tensor([0, 2, 2, 0, 3, 3, 1, 3, 1, 3, 3, 3, 1, 1, 2, 1, 3, 2, 0, 0, 1, 4, 0, 4,\n",
            "        4, 1, 3, 0, 4, 2, 1, 3])\n",
            "Batch 6:\n",
            "Batch matrices shape: torch.Size([32, 28, 16])\n",
            "Batch labels: tensor([2, 3, 1, 3, 3, 4, 1, 3, 3, 2, 4, 4, 3, 1, 1, 3, 1, 1, 1, 3, 2, 1, 1, 1,\n",
            "        3, 3, 1, 2, 1, 4, 4, 1])\n"
          ]
        }
      ],
      "source": [
        "for i, (batch_matrices, batch_labels) in enumerate(dataloader_train):\n",
        "    print(f\"Batch {i+1}:\")\n",
        "    print(f\"Batch matrices shape: {batch_matrices.shape}\")\n",
        "    print(f\"Batch labels: {batch_labels}\")\n",
        "\n",
        "    # Mostrar os primeiros 5 exemplos do batch\n",
        "    # for j in range(min(5, len(batch_matrices))):\n",
        "    #     print(f\"Example {j+1}:\")\n",
        "    #     print(f\"Matrix:\\n{batch_matrices[j]}\")\n",
        "    #     print(f\"Label: {batch_labels[j]}\")\n",
        "\n",
        "    # Apenas para demonstração, pare após o primeiro batch\n",
        "    if i == 5:\n",
        "        break"
      ]
    },
    {
      "cell_type": "markdown",
      "metadata": {
        "id": "xZLo-rJ3dxAe"
      },
      "source": [
        "# Model"
      ]
    },
    {
      "cell_type": "markdown",
      "metadata": {
        "id": "xxxKrLakBiYx"
      },
      "source": [
        "A ideia aqui é utilizarmos a efficient net B0, já que se mostrou muito eficiente com um número muito pequeno de parametros. Caso não seja suficientemente bom, podemos migrar até a efficientnet B2, já que possui menos parametros que a inception resnet, o que é o modelo utilizado no artigo."
      ]
    },
    {
      "cell_type": "markdown",
      "metadata": {
        "id": "-iDmW3jifFPZ"
      },
      "source": [
        "## Treinando o modelo"
      ]
    },
    {
      "cell_type": "code",
      "execution_count": null,
      "metadata": {
        "colab": {
          "base_uri": "https://localhost:8080/"
        },
        "id": "Np_XumOUBhXP",
        "outputId": "e1f7aa58-1a03-498d-f981-69ea65f2439d"
      },
      "outputs": [
        {
          "name": "stderr",
          "output_type": "stream",
          "text": [
            "Downloading: \"https://download.pytorch.org/models/efficientnet_b0_rwightman-7f5810bc.pth\" to /root/.cache/torch/hub/checkpoints/efficientnet_b0_rwightman-7f5810bc.pth\n",
            "100%|██████████| 20.5M/20.5M [00:00<00:00, 145MB/s]\n"
          ]
        }
      ],
      "source": [
        "from torchvision.models import efficientnet_b0, EfficientNet_B0_Weights\n",
        "from torchvision.models._api import WeightsEnum\n",
        "from torch.hub import load_state_dict_from_url\n",
        "\n",
        "def get_state_dict(self, *args, **kwargs):\n",
        "    kwargs.pop(\"check_hash\")\n",
        "    return load_state_dict_from_url(self.url, *args, **kwargs)\n",
        "WeightsEnum.get_state_dict = get_state_dict\n",
        "\n",
        "eff_b0_imgnet = efficientnet_b0(weights=EfficientNet_B0_Weights.IMAGENET1K_V1)\n",
        "# eff_b0_imgnet"
      ]
    },
    {
      "cell_type": "code",
      "execution_count": null,
      "metadata": {
        "colab": {
          "base_uri": "https://localhost:8080/"
        },
        "id": "iQ1wmshbC8dg",
        "outputId": "76e4322b-0b70-43f4-e92a-de741998ea9b"
      },
      "outputs": [
        {
          "name": "stdout",
          "output_type": "stream",
          "text": [
            "Collecting torchinfo\n",
            "  Downloading torchinfo-1.8.0-py3-none-any.whl (23 kB)\n",
            "Installing collected packages: torchinfo\n",
            "Successfully installed torchinfo-1.8.0\n"
          ]
        }
      ],
      "source": [
        "try:\n",
        "  from torchinfo import summary\n",
        "except:\n",
        "  !pip install torchinfo\n",
        "  from torchinfo import summary"
      ]
    },
    {
      "cell_type": "code",
      "execution_count": null,
      "metadata": {
        "colab": {
          "base_uri": "https://localhost:8080/"
        },
        "id": "-1IkXSewCo3E",
        "outputId": "c3e0d284-a57f-4965-ff49-a41c81872141"
      },
      "outputs": [
        {
          "data": {
            "text/plain": [
              "=========================================================================================================\n",
              "Layer (type:depth-idx)                                  Output Shape              Param #\n",
              "=========================================================================================================\n",
              "EfficientNet                                            [32, 5]                   --\n",
              "├─Sequential: 1-1                                       [32, 1280, 1, 1]          --\n",
              "│    └─Conv2dNormActivation: 2-1                        [32, 32, 14, 8]           --\n",
              "│    │    └─Conv2d: 3-1                                 [32, 32, 14, 8]           288\n",
              "│    │    └─BatchNorm2d: 3-2                            [32, 32, 14, 8]           (64)\n",
              "│    │    └─SiLU: 3-3                                   [32, 32, 14, 8]           --\n",
              "│    └─Sequential: 2-2                                  [32, 16, 14, 8]           --\n",
              "│    │    └─MBConv: 3-4                                 [32, 16, 14, 8]           (1,448)\n",
              "│    └─Sequential: 2-3                                  [32, 24, 7, 4]            --\n",
              "│    │    └─MBConv: 3-5                                 [32, 24, 7, 4]            (6,004)\n",
              "│    │    └─MBConv: 3-6                                 [32, 24, 7, 4]            (10,710)\n",
              "│    └─Sequential: 2-4                                  [32, 40, 4, 2]            --\n",
              "│    │    └─MBConv: 3-7                                 [32, 40, 4, 2]            (15,350)\n",
              "│    │    └─MBConv: 3-8                                 [32, 40, 4, 2]            (31,290)\n",
              "│    └─Sequential: 2-5                                  [32, 80, 2, 1]            --\n",
              "│    │    └─MBConv: 3-9                                 [32, 80, 2, 1]            (37,130)\n",
              "│    │    └─MBConv: 3-10                                [32, 80, 2, 1]            (102,900)\n",
              "│    │    └─MBConv: 3-11                                [32, 80, 2, 1]            (102,900)\n",
              "│    └─Sequential: 2-6                                  [32, 112, 2, 1]           --\n",
              "│    │    └─MBConv: 3-12                                [32, 112, 2, 1]           (126,004)\n",
              "│    │    └─MBConv: 3-13                                [32, 112, 2, 1]           (208,572)\n",
              "│    │    └─MBConv: 3-14                                [32, 112, 2, 1]           (208,572)\n",
              "│    └─Sequential: 2-7                                  [32, 192, 1, 1]           --\n",
              "│    │    └─MBConv: 3-15                                [32, 192, 1, 1]           (262,492)\n",
              "│    │    └─MBConv: 3-16                                [32, 192, 1, 1]           (587,952)\n",
              "│    │    └─MBConv: 3-17                                [32, 192, 1, 1]           (587,952)\n",
              "│    │    └─MBConv: 3-18                                [32, 192, 1, 1]           (587,952)\n",
              "│    └─Sequential: 2-8                                  [32, 320, 1, 1]           --\n",
              "│    │    └─MBConv: 3-19                                [32, 320, 1, 1]           (717,232)\n",
              "│    └─Conv2dNormActivation: 2-9                        [32, 1280, 1, 1]          --\n",
              "│    │    └─Conv2d: 3-20                                [32, 1280, 1, 1]          (409,600)\n",
              "│    │    └─BatchNorm2d: 3-21                           [32, 1280, 1, 1]          (2,560)\n",
              "│    │    └─SiLU: 3-22                                  [32, 1280, 1, 1]          --\n",
              "├─AdaptiveAvgPool2d: 1-2                                [32, 1280, 1, 1]          --\n",
              "├─Sequential: 1-3                                       [32, 5]                   --\n",
              "│    └─Dropout: 2-10                                    [32, 1280]                --\n",
              "│    └─Linear: 2-11                                     [32, 5]                   6,405\n",
              "=========================================================================================================\n",
              "Total params: 4,013,377\n",
              "Trainable params: 6,693\n",
              "Non-trainable params: 4,006,684\n",
              "Total mult-adds (M): 182.78\n",
              "=========================================================================================================\n",
              "Input size (MB): 0.06\n",
              "Forward/backward pass size (MB): 38.11\n",
              "Params size (MB): 16.05\n",
              "Estimated Total Size (MB): 54.22\n",
              "========================================================================================================="
            ]
          },
          "execution_count": 16,
          "metadata": {},
          "output_type": "execute_result"
        }
      ],
      "source": [
        "for param in eff_b0_imgnet.parameters():\n",
        "    param.requires_grad = False\n",
        "\n",
        "def set_random_seed(SEED):\n",
        "  torch.manual_seed(SEED)\n",
        "  torch.cuda.manual_seed(SEED)\n",
        "\n",
        "set_random_seed(42)\n",
        "\n",
        "out_ftrs = 5\n",
        "\n",
        "eff_b0_imgnet.features[0][0] = nn.Conv2d(1, 32, kernel_size=(3, 3), stride=(2, 2), padding=(1, 1), bias=False)\n",
        "num_ftrs = eff_b0_imgnet.classifier[1].in_features\n",
        "eff_b0_imgnet.classifier[1] = nn.Linear(num_ftrs, out_ftrs)\n",
        "\n",
        "\n",
        "summary(eff_b0_imgnet, input_size=(32, 1, 28, 16))"
      ]
    },
    {
      "cell_type": "code",
      "execution_count": null,
      "metadata": {
        "colab": {
          "base_uri": "https://localhost:8080/"
        },
        "id": "ZOx_4wN0zBLh",
        "outputId": "74ff04c7-2939-4c44-8dcd-cdcd469fdba5"
      },
      "outputs": [
        {
          "name": "stdout",
          "output_type": "stream",
          "text": [
            "EfficientNet(\n",
            "  (features): Sequential(\n",
            "    (0): Conv2dNormActivation(\n",
            "      (0): Conv2d(1, 32, kernel_size=(3, 3), stride=(2, 2), padding=(1, 1), bias=False)\n",
            "      (1): BatchNorm2d(32, eps=1e-05, momentum=0.1, affine=True, track_running_stats=True)\n",
            "      (2): SiLU(inplace=True)\n",
            "    )\n",
            "    (1): Sequential(\n",
            "      (0): MBConv(\n",
            "        (block): Sequential(\n",
            "          (0): Conv2dNormActivation(\n",
            "            (0): Conv2d(32, 32, kernel_size=(3, 3), stride=(1, 1), padding=(1, 1), groups=32, bias=False)\n",
            "            (1): BatchNorm2d(32, eps=1e-05, momentum=0.1, affine=True, track_running_stats=True)\n",
            "            (2): SiLU(inplace=True)\n",
            "          )\n",
            "          (1): SqueezeExcitation(\n",
            "            (avgpool): AdaptiveAvgPool2d(output_size=1)\n",
            "            (fc1): Conv2d(32, 8, kernel_size=(1, 1), stride=(1, 1))\n",
            "            (fc2): Conv2d(8, 32, kernel_size=(1, 1), stride=(1, 1))\n",
            "            (activation): SiLU(inplace=True)\n",
            "            (scale_activation): Sigmoid()\n",
            "          )\n",
            "          (2): Conv2dNormActivation(\n",
            "            (0): Conv2d(32, 16, kernel_size=(1, 1), stride=(1, 1), bias=False)\n",
            "            (1): BatchNorm2d(16, eps=1e-05, momentum=0.1, affine=True, track_running_stats=True)\n",
            "          )\n",
            "        )\n",
            "        (stochastic_depth): StochasticDepth(p=0.0, mode=row)\n",
            "      )\n",
            "    )\n",
            "    (2): Sequential(\n",
            "      (0): MBConv(\n",
            "        (block): Sequential(\n",
            "          (0): Conv2dNormActivation(\n",
            "            (0): Conv2d(16, 96, kernel_size=(1, 1), stride=(1, 1), bias=False)\n",
            "            (1): BatchNorm2d(96, eps=1e-05, momentum=0.1, affine=True, track_running_stats=True)\n",
            "            (2): SiLU(inplace=True)\n",
            "          )\n",
            "          (1): Conv2dNormActivation(\n",
            "            (0): Conv2d(96, 96, kernel_size=(3, 3), stride=(2, 2), padding=(1, 1), groups=96, bias=False)\n",
            "            (1): BatchNorm2d(96, eps=1e-05, momentum=0.1, affine=True, track_running_stats=True)\n",
            "            (2): SiLU(inplace=True)\n",
            "          )\n",
            "          (2): SqueezeExcitation(\n",
            "            (avgpool): AdaptiveAvgPool2d(output_size=1)\n",
            "            (fc1): Conv2d(96, 4, kernel_size=(1, 1), stride=(1, 1))\n",
            "            (fc2): Conv2d(4, 96, kernel_size=(1, 1), stride=(1, 1))\n",
            "            (activation): SiLU(inplace=True)\n",
            "            (scale_activation): Sigmoid()\n",
            "          )\n",
            "          (3): Conv2dNormActivation(\n",
            "            (0): Conv2d(96, 24, kernel_size=(1, 1), stride=(1, 1), bias=False)\n",
            "            (1): BatchNorm2d(24, eps=1e-05, momentum=0.1, affine=True, track_running_stats=True)\n",
            "          )\n",
            "        )\n",
            "        (stochastic_depth): StochasticDepth(p=0.0125, mode=row)\n",
            "      )\n",
            "      (1): MBConv(\n",
            "        (block): Sequential(\n",
            "          (0): Conv2dNormActivation(\n",
            "            (0): Conv2d(24, 144, kernel_size=(1, 1), stride=(1, 1), bias=False)\n",
            "            (1): BatchNorm2d(144, eps=1e-05, momentum=0.1, affine=True, track_running_stats=True)\n",
            "            (2): SiLU(inplace=True)\n",
            "          )\n",
            "          (1): Conv2dNormActivation(\n",
            "            (0): Conv2d(144, 144, kernel_size=(3, 3), stride=(1, 1), padding=(1, 1), groups=144, bias=False)\n",
            "            (1): BatchNorm2d(144, eps=1e-05, momentum=0.1, affine=True, track_running_stats=True)\n",
            "            (2): SiLU(inplace=True)\n",
            "          )\n",
            "          (2): SqueezeExcitation(\n",
            "            (avgpool): AdaptiveAvgPool2d(output_size=1)\n",
            "            (fc1): Conv2d(144, 6, kernel_size=(1, 1), stride=(1, 1))\n",
            "            (fc2): Conv2d(6, 144, kernel_size=(1, 1), stride=(1, 1))\n",
            "            (activation): SiLU(inplace=True)\n",
            "            (scale_activation): Sigmoid()\n",
            "          )\n",
            "          (3): Conv2dNormActivation(\n",
            "            (0): Conv2d(144, 24, kernel_size=(1, 1), stride=(1, 1), bias=False)\n",
            "            (1): BatchNorm2d(24, eps=1e-05, momentum=0.1, affine=True, track_running_stats=True)\n",
            "          )\n",
            "        )\n",
            "        (stochastic_depth): StochasticDepth(p=0.025, mode=row)\n",
            "      )\n",
            "    )\n",
            "    (3): Sequential(\n",
            "      (0): MBConv(\n",
            "        (block): Sequential(\n",
            "          (0): Conv2dNormActivation(\n",
            "            (0): Conv2d(24, 144, kernel_size=(1, 1), stride=(1, 1), bias=False)\n",
            "            (1): BatchNorm2d(144, eps=1e-05, momentum=0.1, affine=True, track_running_stats=True)\n",
            "            (2): SiLU(inplace=True)\n",
            "          )\n",
            "          (1): Conv2dNormActivation(\n",
            "            (0): Conv2d(144, 144, kernel_size=(5, 5), stride=(2, 2), padding=(2, 2), groups=144, bias=False)\n",
            "            (1): BatchNorm2d(144, eps=1e-05, momentum=0.1, affine=True, track_running_stats=True)\n",
            "            (2): SiLU(inplace=True)\n",
            "          )\n",
            "          (2): SqueezeExcitation(\n",
            "            (avgpool): AdaptiveAvgPool2d(output_size=1)\n",
            "            (fc1): Conv2d(144, 6, kernel_size=(1, 1), stride=(1, 1))\n",
            "            (fc2): Conv2d(6, 144, kernel_size=(1, 1), stride=(1, 1))\n",
            "            (activation): SiLU(inplace=True)\n",
            "            (scale_activation): Sigmoid()\n",
            "          )\n",
            "          (3): Conv2dNormActivation(\n",
            "            (0): Conv2d(144, 40, kernel_size=(1, 1), stride=(1, 1), bias=False)\n",
            "            (1): BatchNorm2d(40, eps=1e-05, momentum=0.1, affine=True, track_running_stats=True)\n",
            "          )\n",
            "        )\n",
            "        (stochastic_depth): StochasticDepth(p=0.037500000000000006, mode=row)\n",
            "      )\n",
            "      (1): MBConv(\n",
            "        (block): Sequential(\n",
            "          (0): Conv2dNormActivation(\n",
            "            (0): Conv2d(40, 240, kernel_size=(1, 1), stride=(1, 1), bias=False)\n",
            "            (1): BatchNorm2d(240, eps=1e-05, momentum=0.1, affine=True, track_running_stats=True)\n",
            "            (2): SiLU(inplace=True)\n",
            "          )\n",
            "          (1): Conv2dNormActivation(\n",
            "            (0): Conv2d(240, 240, kernel_size=(5, 5), stride=(1, 1), padding=(2, 2), groups=240, bias=False)\n",
            "            (1): BatchNorm2d(240, eps=1e-05, momentum=0.1, affine=True, track_running_stats=True)\n",
            "            (2): SiLU(inplace=True)\n",
            "          )\n",
            "          (2): SqueezeExcitation(\n",
            "            (avgpool): AdaptiveAvgPool2d(output_size=1)\n",
            "            (fc1): Conv2d(240, 10, kernel_size=(1, 1), stride=(1, 1))\n",
            "            (fc2): Conv2d(10, 240, kernel_size=(1, 1), stride=(1, 1))\n",
            "            (activation): SiLU(inplace=True)\n",
            "            (scale_activation): Sigmoid()\n",
            "          )\n",
            "          (3): Conv2dNormActivation(\n",
            "            (0): Conv2d(240, 40, kernel_size=(1, 1), stride=(1, 1), bias=False)\n",
            "            (1): BatchNorm2d(40, eps=1e-05, momentum=0.1, affine=True, track_running_stats=True)\n",
            "          )\n",
            "        )\n",
            "        (stochastic_depth): StochasticDepth(p=0.05, mode=row)\n",
            "      )\n",
            "    )\n",
            "    (4): Sequential(\n",
            "      (0): MBConv(\n",
            "        (block): Sequential(\n",
            "          (0): Conv2dNormActivation(\n",
            "            (0): Conv2d(40, 240, kernel_size=(1, 1), stride=(1, 1), bias=False)\n",
            "            (1): BatchNorm2d(240, eps=1e-05, momentum=0.1, affine=True, track_running_stats=True)\n",
            "            (2): SiLU(inplace=True)\n",
            "          )\n",
            "          (1): Conv2dNormActivation(\n",
            "            (0): Conv2d(240, 240, kernel_size=(3, 3), stride=(2, 2), padding=(1, 1), groups=240, bias=False)\n",
            "            (1): BatchNorm2d(240, eps=1e-05, momentum=0.1, affine=True, track_running_stats=True)\n",
            "            (2): SiLU(inplace=True)\n",
            "          )\n",
            "          (2): SqueezeExcitation(\n",
            "            (avgpool): AdaptiveAvgPool2d(output_size=1)\n",
            "            (fc1): Conv2d(240, 10, kernel_size=(1, 1), stride=(1, 1))\n",
            "            (fc2): Conv2d(10, 240, kernel_size=(1, 1), stride=(1, 1))\n",
            "            (activation): SiLU(inplace=True)\n",
            "            (scale_activation): Sigmoid()\n",
            "          )\n",
            "          (3): Conv2dNormActivation(\n",
            "            (0): Conv2d(240, 80, kernel_size=(1, 1), stride=(1, 1), bias=False)\n",
            "            (1): BatchNorm2d(80, eps=1e-05, momentum=0.1, affine=True, track_running_stats=True)\n",
            "          )\n",
            "        )\n",
            "        (stochastic_depth): StochasticDepth(p=0.0625, mode=row)\n",
            "      )\n",
            "      (1): MBConv(\n",
            "        (block): Sequential(\n",
            "          (0): Conv2dNormActivation(\n",
            "            (0): Conv2d(80, 480, kernel_size=(1, 1), stride=(1, 1), bias=False)\n",
            "            (1): BatchNorm2d(480, eps=1e-05, momentum=0.1, affine=True, track_running_stats=True)\n",
            "            (2): SiLU(inplace=True)\n",
            "          )\n",
            "          (1): Conv2dNormActivation(\n",
            "            (0): Conv2d(480, 480, kernel_size=(3, 3), stride=(1, 1), padding=(1, 1), groups=480, bias=False)\n",
            "            (1): BatchNorm2d(480, eps=1e-05, momentum=0.1, affine=True, track_running_stats=True)\n",
            "            (2): SiLU(inplace=True)\n",
            "          )\n",
            "          (2): SqueezeExcitation(\n",
            "            (avgpool): AdaptiveAvgPool2d(output_size=1)\n",
            "            (fc1): Conv2d(480, 20, kernel_size=(1, 1), stride=(1, 1))\n",
            "            (fc2): Conv2d(20, 480, kernel_size=(1, 1), stride=(1, 1))\n",
            "            (activation): SiLU(inplace=True)\n",
            "            (scale_activation): Sigmoid()\n",
            "          )\n",
            "          (3): Conv2dNormActivation(\n",
            "            (0): Conv2d(480, 80, kernel_size=(1, 1), stride=(1, 1), bias=False)\n",
            "            (1): BatchNorm2d(80, eps=1e-05, momentum=0.1, affine=True, track_running_stats=True)\n",
            "          )\n",
            "        )\n",
            "        (stochastic_depth): StochasticDepth(p=0.07500000000000001, mode=row)\n",
            "      )\n",
            "      (2): MBConv(\n",
            "        (block): Sequential(\n",
            "          (0): Conv2dNormActivation(\n",
            "            (0): Conv2d(80, 480, kernel_size=(1, 1), stride=(1, 1), bias=False)\n",
            "            (1): BatchNorm2d(480, eps=1e-05, momentum=0.1, affine=True, track_running_stats=True)\n",
            "            (2): SiLU(inplace=True)\n",
            "          )\n",
            "          (1): Conv2dNormActivation(\n",
            "            (0): Conv2d(480, 480, kernel_size=(3, 3), stride=(1, 1), padding=(1, 1), groups=480, bias=False)\n",
            "            (1): BatchNorm2d(480, eps=1e-05, momentum=0.1, affine=True, track_running_stats=True)\n",
            "            (2): SiLU(inplace=True)\n",
            "          )\n",
            "          (2): SqueezeExcitation(\n",
            "            (avgpool): AdaptiveAvgPool2d(output_size=1)\n",
            "            (fc1): Conv2d(480, 20, kernel_size=(1, 1), stride=(1, 1))\n",
            "            (fc2): Conv2d(20, 480, kernel_size=(1, 1), stride=(1, 1))\n",
            "            (activation): SiLU(inplace=True)\n",
            "            (scale_activation): Sigmoid()\n",
            "          )\n",
            "          (3): Conv2dNormActivation(\n",
            "            (0): Conv2d(480, 80, kernel_size=(1, 1), stride=(1, 1), bias=False)\n",
            "            (1): BatchNorm2d(80, eps=1e-05, momentum=0.1, affine=True, track_running_stats=True)\n",
            "          )\n",
            "        )\n",
            "        (stochastic_depth): StochasticDepth(p=0.08750000000000001, mode=row)\n",
            "      )\n",
            "    )\n",
            "    (5): Sequential(\n",
            "      (0): MBConv(\n",
            "        (block): Sequential(\n",
            "          (0): Conv2dNormActivation(\n",
            "            (0): Conv2d(80, 480, kernel_size=(1, 1), stride=(1, 1), bias=False)\n",
            "            (1): BatchNorm2d(480, eps=1e-05, momentum=0.1, affine=True, track_running_stats=True)\n",
            "            (2): SiLU(inplace=True)\n",
            "          )\n",
            "          (1): Conv2dNormActivation(\n",
            "            (0): Conv2d(480, 480, kernel_size=(5, 5), stride=(1, 1), padding=(2, 2), groups=480, bias=False)\n",
            "            (1): BatchNorm2d(480, eps=1e-05, momentum=0.1, affine=True, track_running_stats=True)\n",
            "            (2): SiLU(inplace=True)\n",
            "          )\n",
            "          (2): SqueezeExcitation(\n",
            "            (avgpool): AdaptiveAvgPool2d(output_size=1)\n",
            "            (fc1): Conv2d(480, 20, kernel_size=(1, 1), stride=(1, 1))\n",
            "            (fc2): Conv2d(20, 480, kernel_size=(1, 1), stride=(1, 1))\n",
            "            (activation): SiLU(inplace=True)\n",
            "            (scale_activation): Sigmoid()\n",
            "          )\n",
            "          (3): Conv2dNormActivation(\n",
            "            (0): Conv2d(480, 112, kernel_size=(1, 1), stride=(1, 1), bias=False)\n",
            "            (1): BatchNorm2d(112, eps=1e-05, momentum=0.1, affine=True, track_running_stats=True)\n",
            "          )\n",
            "        )\n",
            "        (stochastic_depth): StochasticDepth(p=0.1, mode=row)\n",
            "      )\n",
            "      (1): MBConv(\n",
            "        (block): Sequential(\n",
            "          (0): Conv2dNormActivation(\n",
            "            (0): Conv2d(112, 672, kernel_size=(1, 1), stride=(1, 1), bias=False)\n",
            "            (1): BatchNorm2d(672, eps=1e-05, momentum=0.1, affine=True, track_running_stats=True)\n",
            "            (2): SiLU(inplace=True)\n",
            "          )\n",
            "          (1): Conv2dNormActivation(\n",
            "            (0): Conv2d(672, 672, kernel_size=(5, 5), stride=(1, 1), padding=(2, 2), groups=672, bias=False)\n",
            "            (1): BatchNorm2d(672, eps=1e-05, momentum=0.1, affine=True, track_running_stats=True)\n",
            "            (2): SiLU(inplace=True)\n",
            "          )\n",
            "          (2): SqueezeExcitation(\n",
            "            (avgpool): AdaptiveAvgPool2d(output_size=1)\n",
            "            (fc1): Conv2d(672, 28, kernel_size=(1, 1), stride=(1, 1))\n",
            "            (fc2): Conv2d(28, 672, kernel_size=(1, 1), stride=(1, 1))\n",
            "            (activation): SiLU(inplace=True)\n",
            "            (scale_activation): Sigmoid()\n",
            "          )\n",
            "          (3): Conv2dNormActivation(\n",
            "            (0): Conv2d(672, 112, kernel_size=(1, 1), stride=(1, 1), bias=False)\n",
            "            (1): BatchNorm2d(112, eps=1e-05, momentum=0.1, affine=True, track_running_stats=True)\n",
            "          )\n",
            "        )\n",
            "        (stochastic_depth): StochasticDepth(p=0.1125, mode=row)\n",
            "      )\n",
            "      (2): MBConv(\n",
            "        (block): Sequential(\n",
            "          (0): Conv2dNormActivation(\n",
            "            (0): Conv2d(112, 672, kernel_size=(1, 1), stride=(1, 1), bias=False)\n",
            "            (1): BatchNorm2d(672, eps=1e-05, momentum=0.1, affine=True, track_running_stats=True)\n",
            "            (2): SiLU(inplace=True)\n",
            "          )\n",
            "          (1): Conv2dNormActivation(\n",
            "            (0): Conv2d(672, 672, kernel_size=(5, 5), stride=(1, 1), padding=(2, 2), groups=672, bias=False)\n",
            "            (1): BatchNorm2d(672, eps=1e-05, momentum=0.1, affine=True, track_running_stats=True)\n",
            "            (2): SiLU(inplace=True)\n",
            "          )\n",
            "          (2): SqueezeExcitation(\n",
            "            (avgpool): AdaptiveAvgPool2d(output_size=1)\n",
            "            (fc1): Conv2d(672, 28, kernel_size=(1, 1), stride=(1, 1))\n",
            "            (fc2): Conv2d(28, 672, kernel_size=(1, 1), stride=(1, 1))\n",
            "            (activation): SiLU(inplace=True)\n",
            "            (scale_activation): Sigmoid()\n",
            "          )\n",
            "          (3): Conv2dNormActivation(\n",
            "            (0): Conv2d(672, 112, kernel_size=(1, 1), stride=(1, 1), bias=False)\n",
            "            (1): BatchNorm2d(112, eps=1e-05, momentum=0.1, affine=True, track_running_stats=True)\n",
            "          )\n",
            "        )\n",
            "        (stochastic_depth): StochasticDepth(p=0.125, mode=row)\n",
            "      )\n",
            "    )\n",
            "    (6): Sequential(\n",
            "      (0): MBConv(\n",
            "        (block): Sequential(\n",
            "          (0): Conv2dNormActivation(\n",
            "            (0): Conv2d(112, 672, kernel_size=(1, 1), stride=(1, 1), bias=False)\n",
            "            (1): BatchNorm2d(672, eps=1e-05, momentum=0.1, affine=True, track_running_stats=True)\n",
            "            (2): SiLU(inplace=True)\n",
            "          )\n",
            "          (1): Conv2dNormActivation(\n",
            "            (0): Conv2d(672, 672, kernel_size=(5, 5), stride=(2, 2), padding=(2, 2), groups=672, bias=False)\n",
            "            (1): BatchNorm2d(672, eps=1e-05, momentum=0.1, affine=True, track_running_stats=True)\n",
            "            (2): SiLU(inplace=True)\n",
            "          )\n",
            "          (2): SqueezeExcitation(\n",
            "            (avgpool): AdaptiveAvgPool2d(output_size=1)\n",
            "            (fc1): Conv2d(672, 28, kernel_size=(1, 1), stride=(1, 1))\n",
            "            (fc2): Conv2d(28, 672, kernel_size=(1, 1), stride=(1, 1))\n",
            "            (activation): SiLU(inplace=True)\n",
            "            (scale_activation): Sigmoid()\n",
            "          )\n",
            "          (3): Conv2dNormActivation(\n",
            "            (0): Conv2d(672, 192, kernel_size=(1, 1), stride=(1, 1), bias=False)\n",
            "            (1): BatchNorm2d(192, eps=1e-05, momentum=0.1, affine=True, track_running_stats=True)\n",
            "          )\n",
            "        )\n",
            "        (stochastic_depth): StochasticDepth(p=0.1375, mode=row)\n",
            "      )\n",
            "      (1): MBConv(\n",
            "        (block): Sequential(\n",
            "          (0): Conv2dNormActivation(\n",
            "            (0): Conv2d(192, 1152, kernel_size=(1, 1), stride=(1, 1), bias=False)\n",
            "            (1): BatchNorm2d(1152, eps=1e-05, momentum=0.1, affine=True, track_running_stats=True)\n",
            "            (2): SiLU(inplace=True)\n",
            "          )\n",
            "          (1): Conv2dNormActivation(\n",
            "            (0): Conv2d(1152, 1152, kernel_size=(5, 5), stride=(1, 1), padding=(2, 2), groups=1152, bias=False)\n",
            "            (1): BatchNorm2d(1152, eps=1e-05, momentum=0.1, affine=True, track_running_stats=True)\n",
            "            (2): SiLU(inplace=True)\n",
            "          )\n",
            "          (2): SqueezeExcitation(\n",
            "            (avgpool): AdaptiveAvgPool2d(output_size=1)\n",
            "            (fc1): Conv2d(1152, 48, kernel_size=(1, 1), stride=(1, 1))\n",
            "            (fc2): Conv2d(48, 1152, kernel_size=(1, 1), stride=(1, 1))\n",
            "            (activation): SiLU(inplace=True)\n",
            "            (scale_activation): Sigmoid()\n",
            "          )\n",
            "          (3): Conv2dNormActivation(\n",
            "            (0): Conv2d(1152, 192, kernel_size=(1, 1), stride=(1, 1), bias=False)\n",
            "            (1): BatchNorm2d(192, eps=1e-05, momentum=0.1, affine=True, track_running_stats=True)\n",
            "          )\n",
            "        )\n",
            "        (stochastic_depth): StochasticDepth(p=0.15000000000000002, mode=row)\n",
            "      )\n",
            "      (2): MBConv(\n",
            "        (block): Sequential(\n",
            "          (0): Conv2dNormActivation(\n",
            "            (0): Conv2d(192, 1152, kernel_size=(1, 1), stride=(1, 1), bias=False)\n",
            "            (1): BatchNorm2d(1152, eps=1e-05, momentum=0.1, affine=True, track_running_stats=True)\n",
            "            (2): SiLU(inplace=True)\n",
            "          )\n",
            "          (1): Conv2dNormActivation(\n",
            "            (0): Conv2d(1152, 1152, kernel_size=(5, 5), stride=(1, 1), padding=(2, 2), groups=1152, bias=False)\n",
            "            (1): BatchNorm2d(1152, eps=1e-05, momentum=0.1, affine=True, track_running_stats=True)\n",
            "            (2): SiLU(inplace=True)\n",
            "          )\n",
            "          (2): SqueezeExcitation(\n",
            "            (avgpool): AdaptiveAvgPool2d(output_size=1)\n",
            "            (fc1): Conv2d(1152, 48, kernel_size=(1, 1), stride=(1, 1))\n",
            "            (fc2): Conv2d(48, 1152, kernel_size=(1, 1), stride=(1, 1))\n",
            "            (activation): SiLU(inplace=True)\n",
            "            (scale_activation): Sigmoid()\n",
            "          )\n",
            "          (3): Conv2dNormActivation(\n",
            "            (0): Conv2d(1152, 192, kernel_size=(1, 1), stride=(1, 1), bias=False)\n",
            "            (1): BatchNorm2d(192, eps=1e-05, momentum=0.1, affine=True, track_running_stats=True)\n",
            "          )\n",
            "        )\n",
            "        (stochastic_depth): StochasticDepth(p=0.1625, mode=row)\n",
            "      )\n",
            "      (3): MBConv(\n",
            "        (block): Sequential(\n",
            "          (0): Conv2dNormActivation(\n",
            "            (0): Conv2d(192, 1152, kernel_size=(1, 1), stride=(1, 1), bias=False)\n",
            "            (1): BatchNorm2d(1152, eps=1e-05, momentum=0.1, affine=True, track_running_stats=True)\n",
            "            (2): SiLU(inplace=True)\n",
            "          )\n",
            "          (1): Conv2dNormActivation(\n",
            "            (0): Conv2d(1152, 1152, kernel_size=(5, 5), stride=(1, 1), padding=(2, 2), groups=1152, bias=False)\n",
            "            (1): BatchNorm2d(1152, eps=1e-05, momentum=0.1, affine=True, track_running_stats=True)\n",
            "            (2): SiLU(inplace=True)\n",
            "          )\n",
            "          (2): SqueezeExcitation(\n",
            "            (avgpool): AdaptiveAvgPool2d(output_size=1)\n",
            "            (fc1): Conv2d(1152, 48, kernel_size=(1, 1), stride=(1, 1))\n",
            "            (fc2): Conv2d(48, 1152, kernel_size=(1, 1), stride=(1, 1))\n",
            "            (activation): SiLU(inplace=True)\n",
            "            (scale_activation): Sigmoid()\n",
            "          )\n",
            "          (3): Conv2dNormActivation(\n",
            "            (0): Conv2d(1152, 192, kernel_size=(1, 1), stride=(1, 1), bias=False)\n",
            "            (1): BatchNorm2d(192, eps=1e-05, momentum=0.1, affine=True, track_running_stats=True)\n",
            "          )\n",
            "        )\n",
            "        (stochastic_depth): StochasticDepth(p=0.17500000000000002, mode=row)\n",
            "      )\n",
            "    )\n",
            "    (7): Sequential(\n",
            "      (0): MBConv(\n",
            "        (block): Sequential(\n",
            "          (0): Conv2dNormActivation(\n",
            "            (0): Conv2d(192, 1152, kernel_size=(1, 1), stride=(1, 1), bias=False)\n",
            "            (1): BatchNorm2d(1152, eps=1e-05, momentum=0.1, affine=True, track_running_stats=True)\n",
            "            (2): SiLU(inplace=True)\n",
            "          )\n",
            "          (1): Conv2dNormActivation(\n",
            "            (0): Conv2d(1152, 1152, kernel_size=(3, 3), stride=(1, 1), padding=(1, 1), groups=1152, bias=False)\n",
            "            (1): BatchNorm2d(1152, eps=1e-05, momentum=0.1, affine=True, track_running_stats=True)\n",
            "            (2): SiLU(inplace=True)\n",
            "          )\n",
            "          (2): SqueezeExcitation(\n",
            "            (avgpool): AdaptiveAvgPool2d(output_size=1)\n",
            "            (fc1): Conv2d(1152, 48, kernel_size=(1, 1), stride=(1, 1))\n",
            "            (fc2): Conv2d(48, 1152, kernel_size=(1, 1), stride=(1, 1))\n",
            "            (activation): SiLU(inplace=True)\n",
            "            (scale_activation): Sigmoid()\n",
            "          )\n",
            "          (3): Conv2dNormActivation(\n",
            "            (0): Conv2d(1152, 320, kernel_size=(1, 1), stride=(1, 1), bias=False)\n",
            "            (1): BatchNorm2d(320, eps=1e-05, momentum=0.1, affine=True, track_running_stats=True)\n",
            "          )\n",
            "        )\n",
            "        (stochastic_depth): StochasticDepth(p=0.1875, mode=row)\n",
            "      )\n",
            "    )\n",
            "    (8): Conv2dNormActivation(\n",
            "      (0): Conv2d(320, 1280, kernel_size=(1, 1), stride=(1, 1), bias=False)\n",
            "      (1): BatchNorm2d(1280, eps=1e-05, momentum=0.1, affine=True, track_running_stats=True)\n",
            "      (2): SiLU(inplace=True)\n",
            "    )\n",
            "  )\n",
            "  (avgpool): AdaptiveAvgPool2d(output_size=1)\n",
            "  (classifier): Sequential(\n",
            "    (0): Dropout(p=0.2, inplace=True)\n",
            "    (1): Linear(in_features=1280, out_features=5, bias=True)\n",
            "  )\n",
            ")\n"
          ]
        }
      ],
      "source": [
        "print(eff_b0_imgnet)"
      ]
    },
    {
      "cell_type": "code",
      "execution_count": null,
      "metadata": {
        "id": "VNj4t0CpNelj"
      },
      "outputs": [],
      "source": [
        "from IPython.display import clear_output\n",
        "import copy\n",
        "\n",
        "def accuracy_fn(y_true, y_pred):\n",
        "    correct = torch.eq(y_true, y_pred).sum().item()\n",
        "    acc = (correct / len(y_pred)) * 100\n",
        "    return acc\n",
        "\n",
        "def print_loss(train_loss, test_loss, train_acc, test_acc):\n",
        "    clear_output(wait=True)\n",
        "    x_values1, y_values1 = zip(*train_loss)\n",
        "    x_values2, y_values2 = zip(*test_loss)\n",
        "    x_values3, y_values3 = zip(*train_acc)\n",
        "    x_values4, y_values4 = zip(*test_acc)\n",
        "\n",
        "    fig, axs = plt.subplots(2, 1, figsize=(10, 8))\n",
        "\n",
        "\n",
        "    axs[0].plot(x_values1, y_values1, linestyle='-', label='train loss')\n",
        "    axs[0].plot(x_values2, y_values2, linestyle='--', label='test loss')\n",
        "\n",
        "    axs[0].set_xlabel('Épocas')\n",
        "    axs[0].set_ylabel('Valor da loss')\n",
        "    axs[0].set_title('Variação da loss de treino e teste')\n",
        "    axs[0].legend()\n",
        "\n",
        "    axs[1].plot(x_values3, y_values3, linestyle='-', label='train accuracy')\n",
        "    axs[1].plot(x_values4, y_values4, linestyle='--', label='test accuracy')\n",
        "\n",
        "    axs[1].set_xlabel('Épocas')\n",
        "    axs[1].set_ylabel('Valor da Precisão')\n",
        "    axs[1].set_title('Variação da precisão de treino e teste')\n",
        "    axs[1].legend()\n",
        "\n",
        "    plt.show()\n",
        "\n",
        "def train_model(model, train_dataloader, validation_dataloader, loss_fn, optimizer, device='cpu', epochs=10, scheduler=None, unfreeze_step = None):\n",
        "  model = model.to(device)\n",
        "\n",
        "  best_model_wts = copy.deepcopy(model.state_dict())\n",
        "  best_acc = 0.0\n",
        "\n",
        "  train_loss_list = []\n",
        "  test_loss_list = []\n",
        "  train_acc_list = []\n",
        "  test_acc_list = []\n",
        "\n",
        "  for epoch in range(epochs):\n",
        "\n",
        "    print(f'Starting train for epoch {epoch + 1}')\n",
        "\n",
        "    train_loss = 0\n",
        "    train_acc = 0\n",
        "\n",
        "    for batch, (X, y) in enumerate(train_dataloader):\n",
        "\n",
        "      # print(f'Starting training batch: {batch + 1}')\n",
        "      model.train()\n",
        "\n",
        "      X, y = X.to(device), y.to(device)\n",
        "\n",
        "      X = X.unsqueeze(1)\n",
        "\n",
        "      y_logits = model(X)\n",
        "\n",
        "      y_pred = torch.softmax(y_logits, dim=1).argmax(dim=1)\n",
        "\n",
        "      train_acc += accuracy_fn(y_true=y, y_pred=y_pred)\n",
        "\n",
        "      loss = loss_fn(y_logits, y)\n",
        "\n",
        "      train_loss += loss.item()\n",
        "\n",
        "      optimizer.zero_grad()\n",
        "\n",
        "      loss.backward()\n",
        "\n",
        "      optimizer.step()\n",
        "\n",
        "    train_loss /= len(train_dataloader)\n",
        "    train_acc /= len(train_dataloader)\n",
        "\n",
        "    test_loss, test_acc = 0, 0\n",
        "\n",
        "    model.eval()\n",
        "\n",
        "    print(f'Starting validation for epoch {epoch + 1}')\n",
        "\n",
        "    with torch.inference_mode():\n",
        "      for batch, (X, y) in enumerate(validation_dataloader):\n",
        "        # print(f'Starting validation batch: {batch + 1}')\n",
        "        X, y = X.to(device), y.to(device)\n",
        "        X = X.unsqueeze(1)\n",
        "\n",
        "        test_logits = model(X)\n",
        "        test_pred = torch.softmax(test_logits, dim=1).argmax(dim=1)\n",
        "\n",
        "        test_loss += loss_fn(test_logits, y)\n",
        "        test_acc += accuracy_fn(y_true=y,\n",
        "                                y_pred=test_pred)\n",
        "      test_loss /= len(validation_dataloader)\n",
        "      test_acc /= len(validation_dataloader)\n",
        "      if scheduler != None:\n",
        "        scheduler.step()\n",
        "\n",
        "    if test_acc > best_acc:\n",
        "      best_acc = test_acc\n",
        "      best_model_wts = copy.deepcopy(model.state_dict())\n",
        "\n",
        "    print(f'Ending epoch ${epoch + 1}')\n",
        "    train_loss_list.append((epoch, train_loss))\n",
        "    test_loss_list.append((epoch, test_loss.item()))\n",
        "    train_acc_list.append((epoch, train_acc))\n",
        "    test_acc_list.append((epoch, test_acc))\n",
        "    print(type(train_loss), type(test_loss), type(train_acc), type(test_acc))\n",
        "    print_loss(train_loss_list, test_loss_list, train_acc_list, test_acc_list)\n",
        "    print(f\"Loss: {loss:.5f} | Test Loss: {test_loss:.5f}, Test Acc: {test_acc:.2f}%\")\n",
        "\n",
        "  model.load_state_dict(best_model_wts)\n",
        "  return model"
      ]
    },
    {
      "cell_type": "code",
      "execution_count": null,
      "metadata": {
        "id": "_PIVk1RWhebu"
      },
      "outputs": [],
      "source": [
        "import torch.optim as optim\n",
        "\n",
        "loss_fn = nn.CrossEntropyLoss()\n",
        "optimizer = optim.SGD(params=eff_b0_imgnet.parameters(), lr=0.01)"
      ]
    },
    {
      "cell_type": "code",
      "execution_count": null,
      "metadata": {
        "id": "Cg8pkE9ux59i"
      },
      "outputs": [],
      "source": [
        "scheduler = optim.lr_scheduler.StepLR(optimizer, step_size=14, gamma=0.1)"
      ]
    },
    {
      "cell_type": "code",
      "execution_count": null,
      "metadata": {
        "colab": {
          "base_uri": "https://localhost:8080/",
          "height": 737
        },
        "id": "n2wPqtLKx_Hi",
        "outputId": "a9406e45-be85-4b6e-b634-32f39f2d19cf"
      },
      "outputs": [
        {
          "data": {
            "image/png": "[encoded data removed]",
            "text/plain": [
              "<Figure size 1000x800 with 2 Axes>"
            ]
          },
          "metadata": {},
          "output_type": "display_data"
        },
        {
          "name": "stdout",
          "output_type": "stream",
          "text": [
            "Loss: 0.03539 | Test Loss: 0.07944, Test Acc: 97.83%\n"
          ]
        }
      ],
      "source": [
        "model = train_model(\n",
        "    eff_b0_imgnet,\n",
        "    dataloader_train,\n",
        "    dataloader_validation,\n",
        "    loss_fn,\n",
        "    optimizer,\n",
        "    'cuda',\n",
        "    25,\n",
        "    scheduler\n",
        ")"
      ]
    },
    {
      "cell_type": "code",
      "execution_count": null,
      "metadata": {
        "id": "uxrszMTsyMVR"
      },
      "outputs": [],
      "source": [
        "# torch.save(model.state_dict(), f'{FOLDER_PATH}/model')"
      ]
    },
    {
      "cell_type": "markdown",
      "metadata": {
        "id": "hfpCgsrcexuE"
      },
      "source": [
        "## Validando o modelo"
      ]
    },
    {
      "cell_type": "code",
      "execution_count": null,
      "metadata": {
        "colab": {
          "base_uri": "https://localhost:8080/"
        },
        "id": "T9215KgpfIQV",
        "outputId": "6c1f3578-26ff-4a3e-a478-3e6e11350c49"
      },
      "outputs": [
        {
          "output_type": "stream",
          "name": "stdout",
          "text": [
            "Collecting torchinfo\n",
            "  Downloading torchinfo-1.8.0-py3-none-any.whl.metadata (21 kB)\n",
            "Downloading torchinfo-1.8.0-py3-none-any.whl (23 kB)\n",
            "Installing collected packages: torchinfo\n",
            "Successfully installed torchinfo-1.8.0\n"
          ]
        },
        {
          "output_type": "execute_result",
          "data": {
            "text/plain": [
              "=========================================================================================================\n",
              "Layer (type:depth-idx)                                  Output Shape              Param #\n",
              "=========================================================================================================\n",
              "EfficientNet                                            [32, 5]                   --\n",
              "├─Sequential: 1-1                                       [32, 1280, 1, 1]          --\n",
              "│    └─Conv2dNormActivation: 2-1                        [32, 32, 14, 8]           --\n",
              "│    │    └─Conv2d: 3-1                                 [32, 32, 14, 8]           288\n",
              "│    │    └─BatchNorm2d: 3-2                            [32, 32, 14, 8]           64\n",
              "│    │    └─SiLU: 3-3                                   [32, 32, 14, 8]           --\n",
              "│    └─Sequential: 2-2                                  [32, 16, 14, 8]           --\n",
              "│    │    └─MBConv: 3-4                                 [32, 16, 14, 8]           1,448\n",
              "│    └─Sequential: 2-3                                  [32, 24, 7, 4]            --\n",
              "│    │    └─MBConv: 3-5                                 [32, 24, 7, 4]            6,004\n",
              "│    │    └─MBConv: 3-6                                 [32, 24, 7, 4]            10,710\n",
              "│    └─Sequential: 2-4                                  [32, 40, 4, 2]            --\n",
              "│    │    └─MBConv: 3-7                                 [32, 40, 4, 2]            15,350\n",
              "│    │    └─MBConv: 3-8                                 [32, 40, 4, 2]            31,290\n",
              "│    └─Sequential: 2-5                                  [32, 80, 2, 1]            --\n",
              "│    │    └─MBConv: 3-9                                 [32, 80, 2, 1]            37,130\n",
              "│    │    └─MBConv: 3-10                                [32, 80, 2, 1]            102,900\n",
              "│    │    └─MBConv: 3-11                                [32, 80, 2, 1]            102,900\n",
              "│    └─Sequential: 2-6                                  [32, 112, 2, 1]           --\n",
              "│    │    └─MBConv: 3-12                                [32, 112, 2, 1]           126,004\n",
              "│    │    └─MBConv: 3-13                                [32, 112, 2, 1]           208,572\n",
              "│    │    └─MBConv: 3-14                                [32, 112, 2, 1]           208,572\n",
              "│    └─Sequential: 2-7                                  [32, 192, 1, 1]           --\n",
              "│    │    └─MBConv: 3-15                                [32, 192, 1, 1]           262,492\n",
              "│    │    └─MBConv: 3-16                                [32, 192, 1, 1]           587,952\n",
              "│    │    └─MBConv: 3-17                                [32, 192, 1, 1]           587,952\n",
              "│    │    └─MBConv: 3-18                                [32, 192, 1, 1]           587,952\n",
              "│    └─Sequential: 2-8                                  [32, 320, 1, 1]           --\n",
              "│    │    └─MBConv: 3-19                                [32, 320, 1, 1]           717,232\n",
              "│    └─Conv2dNormActivation: 2-9                        [32, 1280, 1, 1]          --\n",
              "│    │    └─Conv2d: 3-20                                [32, 1280, 1, 1]          409,600\n",
              "│    │    └─BatchNorm2d: 3-21                           [32, 1280, 1, 1]          2,560\n",
              "│    │    └─SiLU: 3-22                                  [32, 1280, 1, 1]          --\n",
              "├─AdaptiveAvgPool2d: 1-2                                [32, 1280, 1, 1]          --\n",
              "├─Sequential: 1-3                                       [32, 5]                   --\n",
              "│    └─Dropout: 2-10                                    [32, 1280]                --\n",
              "│    └─Linear: 2-11                                     [32, 5]                   6,405\n",
              "=========================================================================================================\n",
              "Total params: 4,013,377\n",
              "Trainable params: 4,013,377\n",
              "Non-trainable params: 0\n",
              "Total mult-adds (M): 182.78\n",
              "=========================================================================================================\n",
              "Input size (MB): 0.06\n",
              "Forward/backward pass size (MB): 38.11\n",
              "Params size (MB): 16.05\n",
              "Estimated Total Size (MB): 54.22\n",
              "========================================================================================================="
            ]
          },
          "metadata": {},
          "execution_count": 14
        }
      ],
      "source": [
        "from torchvision.models import efficientnet_b0\n",
        "try:\n",
        "  from torchinfo import summary\n",
        "except:\n",
        "  !pip install torchinfo\n",
        "  from torchinfo import summary\n",
        "\n",
        "model = efficientnet_b0()\n",
        "out_ftrs = 5\n",
        "\n",
        "model.features[0][0] = nn.Conv2d(1, 32, kernel_size=(3, 3), stride=(2, 2), padding=(1, 1), bias=False)\n",
        "num_ftrs = model.classifier[1].in_features\n",
        "model.classifier[1] = nn.Linear(num_ftrs, out_ftrs)\n",
        "\n",
        "model.load_state_dict(torch.load(f'{FOLDER_PATH}/model', map_location=torch.device('cpu')))\n",
        "\n",
        "summary(model, input_size=(32, 1, 28, 16))"
      ]
    },
    {
      "cell_type": "code",
      "execution_count": null,
      "metadata": {
        "id": "7Elda7hEi8GE"
      },
      "outputs": [],
      "source": [
        "def accuracy_fn(y_true, y_pred):\n",
        "    correct = torch.eq(y_true, y_pred).sum().item()\n",
        "    acc = (correct / len(y_pred)) * 100\n",
        "    return acc\n",
        "\n",
        "def get_model_accuracy(model, test_dl, device='cpu'):\n",
        "  acc = 0\n",
        "\n",
        "  model.to(device)\n",
        "  model.eval()\n",
        "  with torch.inference_mode():\n",
        "    for X, y in test_dl:\n",
        "      X, y = X.to(device), y.to(device)\n",
        "      X = X.unsqueeze(1)\n",
        "      logits = model(X)\n",
        "      pred = torch.softmax(logits, dim=1).argmax(dim=1)\n",
        "      acc += accuracy_fn(y_true=y,\n",
        "                              y_pred=pred)\n",
        "\n",
        "  return acc/len(test_dl)\n"
      ]
    },
    {
      "cell_type": "code",
      "execution_count": null,
      "metadata": {
        "id": "BcjGG_6ejbV2"
      },
      "outputs": [],
      "source": [
        "from sklearn.metrics import confusion_matrix\n",
        "import seaborn as sns\n",
        "\n",
        "def get_pred_and_true_labels(model, dataloader, device='cpu'):\n",
        "  preds = []\n",
        "  true = []\n",
        "\n",
        "  model.to(device)\n",
        "  model.eval()\n",
        "  with torch.inference_mode():\n",
        "    for X, y in dataloader:\n",
        "      X, y = X.to(device), y.to(device)\n",
        "      X = X.unsqueeze(1)\n",
        "\n",
        "      logits = model(X)\n",
        "      pred = torch.softmax(logits, dim=1).argmax(dim=1)\n",
        "\n",
        "      preds.extend(pred.tolist())\n",
        "      true.extend(y.tolist())\n",
        "\n",
        "\n",
        "  return preds, true\n",
        "\n",
        "\n",
        "def print_confussion_matrix(model, dataloader):\n",
        "  preds, true = get_pred_and_true_labels(model, dataloader)\n",
        "\n",
        "  matriz_de_confusao = confusion_matrix(true, preds)\n",
        "\n",
        "  sns.heatmap(matriz_de_confusao, annot=True, fmt=\"d\")\n",
        "  plt.show()"
      ]
    },
    {
      "cell_type": "code",
      "execution_count": null,
      "metadata": {
        "id": "DzfmewgSkD0G",
        "colab": {
          "base_uri": "https://localhost:8080/"
        },
        "outputId": "fc1ba784-8b23-470a-e253-ec9844b6fc3e"
      },
      "outputs": [
        {
          "output_type": "execute_result",
          "data": {
            "text/plain": [
              "{'validation': 97.90503819036428, 'train': 98.00899501986459}"
            ]
          },
          "metadata": {},
          "execution_count": 17
        }
      ],
      "source": [
        "model_acc = {\n",
        "  'validation': get_model_accuracy(model, dataloader_validation),\n",
        "  'train': get_model_accuracy(model, dataloader_train)\n",
        "}\n",
        "\n",
        "model_acc"
      ]
    },
    {
      "cell_type": "code",
      "execution_count": null,
      "metadata": {
        "id": "r7OrZV7HmGkm",
        "colab": {
          "base_uri": "https://localhost:8080/",
          "height": 430
        },
        "outputId": "3898333e-0cdd-4f8e-ebbd-df09cf29d4e2"
      },
      "outputs": [
        {
          "output_type": "display_data",
          "data": {
            "text/plain": [
              "<Figure size 640x480 with 2 Axes>"
            ],
            "image/png": "[encoded data removed]"
          },
          "metadata": {}
        }
      ],
      "source": [
        "print_confussion_matrix(model, dataloader_validation)"
      ]
    },
    {
      "cell_type": "code",
      "execution_count": null,
      "metadata": {
        "id": "yOVNpR_Wo29C"
      },
      "outputs": [],
      "source": []
    },
    {
      "cell_type": "markdown",
      "metadata": {
        "id": "j0-o3u8JgJyq"
      },
      "source": [
        "## Testando o modelo"
      ]
    },
    {
      "cell_type": "markdown",
      "metadata": {
        "id": "8lHcG6s7rESD"
      },
      "source": [
        "### Com ataques DoS"
      ]
    },
    {
      "cell_type": "code",
      "execution_count": null,
      "metadata": {
        "id": "hU_AFCRWgLvV",
        "colab": {
          "base_uri": "https://localhost:8080/"
        },
        "outputId": "702ad130-cdae-49f7-d1ae-f645b35b9f37"
      },
      "outputs": [
        {
          "output_type": "stream",
          "name": "stdout",
          "text": [
            "num_matrices: 49999\n"
          ]
        }
      ],
      "source": [
        "dos_dataset, dos_labels = create_matrices_and_labels(dos_df, 'DOS')\n",
        "dos_dataset = CustomDataset(dos_dataset, dos_labels)\n",
        "\n",
        "# Criar o DataLoader\n",
        "dos_dataloader = DataLoader(dos_dataset, batch_size=1, shuffle=True)"
      ]
    },
    {
      "cell_type": "code",
      "execution_count": null,
      "metadata": {
        "id": "3A7zxLJGsHgd",
        "colab": {
          "base_uri": "https://localhost:8080/"
        },
        "outputId": "86540373-5739-401c-e639-df923f0cc283"
      },
      "outputs": [
        {
          "output_type": "execute_result",
          "data": {
            "text/plain": [
              "98.14796295925919"
            ]
          },
          "metadata": {},
          "execution_count": 20
        }
      ],
      "source": [
        "get_model_accuracy(model, dos_dataloader)"
      ]
    },
    {
      "cell_type": "code",
      "execution_count": null,
      "metadata": {
        "id": "Pb-KUPXBsszd",
        "colab": {
          "base_uri": "https://localhost:8080/"
        },
        "outputId": "a12c4bb2-8d76-4eed-b254-55fdabccbf4b"
      },
      "outputs": [
        {
          "output_type": "stream",
          "name": "stdout",
          "text": [
            "num_matrices: 49999\n"
          ]
        },
        {
          "output_type": "execute_result",
          "data": {
            "text/plain": [
              "94.98789975799517"
            ]
          },
          "metadata": {},
          "execution_count": 21
        }
      ],
      "source": [
        "fuzz_dataset, fuzz_labels = create_matrices_and_labels(fuzz_df, 'FUZZ')\n",
        "fuzz_dataset = CustomDataset(fuzz_dataset, fuzz_labels)\n",
        "\n",
        "# Criar o DataLoader\n",
        "fuzz_dataloader = DataLoader(fuzz_dataset, batch_size=1, shuffle=True)\n",
        "get_model_accuracy(model, fuzz_dataloader)"
      ]
    },
    {
      "cell_type": "code",
      "execution_count": null,
      "metadata": {
        "id": "8mbXN9_J05Pf",
        "colab": {
          "base_uri": "https://localhost:8080/"
        },
        "outputId": "9e361b1d-b650-41f0-d213-b4e7a9d69586"
      },
      "outputs": [
        {
          "output_type": "stream",
          "name": "stdout",
          "text": [
            "num_matrices: 49999\n"
          ]
        },
        {
          "output_type": "execute_result",
          "data": {
            "text/plain": [
              "99.1439828796576"
            ]
          },
          "metadata": {},
          "execution_count": 22
        }
      ],
      "source": [
        "impersonation_dataset, impersonation_labels = create_matrices_and_labels(impersonation_df, 'IMPERSONATION')\n",
        "impersonation_dataset = CustomDataset(impersonation_dataset, impersonation_labels)\n",
        "\n",
        "# Criar o DataLoader\n",
        "impersonation_dataloader = DataLoader(impersonation_dataset, batch_size=1, shuffle=True)\n",
        "get_model_accuracy(model, impersonation_dataloader)"
      ]
    },
    {
      "cell_type": "code",
      "execution_count": null,
      "metadata": {
        "id": "L5vp7Cz_1IQ-",
        "colab": {
          "base_uri": "https://localhost:8080/"
        },
        "outputId": "b3d4a6aa-3f13-47ee-b726-30be0bd05938"
      },
      "outputs": [
        {
          "output_type": "stream",
          "name": "stdout",
          "text": [
            "num_matrices: 49999\n"
          ]
        },
        {
          "output_type": "execute_result",
          "data": {
            "text/plain": [
              "99.1819836396728"
            ]
          },
          "metadata": {},
          "execution_count": 23
        }
      ],
      "source": [
        "false_dataset, false_labels = create_matrices_and_labels(false_df, 'FALSIFYING')\n",
        "false_dataset = CustomDataset(false_dataset, false_labels)\n",
        "\n",
        "# Criar o DataLoader\n",
        "false_dataloader = DataLoader(false_dataset, batch_size=1, shuffle=True)\n",
        "get_model_accuracy(model, false_dataloader)"
      ]
    },
    {
      "cell_type": "code",
      "execution_count": null,
      "metadata": {
        "id": "QT1YTr8s1VTk",
        "colab": {
          "base_uri": "https://localhost:8080/"
        },
        "outputId": "68dd12ae-10cc-4481-a7fe-34e47a0f2b03"
      },
      "outputs": [
        {
          "output_type": "stream",
          "name": "stdout",
          "text": [
            "num_matrices: 17856\n"
          ]
        },
        {
          "output_type": "execute_result",
          "data": {
            "text/plain": [
              "99.29995519713262"
            ]
          },
          "metadata": {},
          "execution_count": 24
        }
      ],
      "source": [
        "default_df, default_labels = create_matrices_and_labels(normal_df, 'normal')\n",
        "default_dataset = CustomDataset(default_df, default_labels)\n",
        "\n",
        "# Criar o DataLoader\n",
        "default_dataloader = DataLoader(default_dataset, batch_size=1, shuffle=True)\n",
        "get_model_accuracy(model, default_dataloader)"
      ]
    },
    {
      "cell_type": "code",
      "source": [
        "import numpy as np\n",
        "import pandas as pd\n",
        "from sklearn.metrics import confusion_matrix\n",
        "from tabulate import tabulate\n",
        "\n",
        "# Supondo que você tem um DataLoader para seu conjunto de teste\n",
        "# test_loader = DataLoader(test_dataset, batch_size=32, shuffle=False)\n",
        "\n",
        "new_dataloader_validation = DataLoader(validation_dataset, batch_size=32, shuffle=True)\n",
        "\n",
        "# E um modelo CNN já treinado\n",
        "# model = YourCNNModel()\n",
        "# model.load_state_dict(torch.load('path_to_trained_model.pth'))\n",
        "# model.eval()\n",
        "\n",
        "# Para armazenar os labels verdadeiros e predições\n",
        "y_true = []\n",
        "y_pred = []\n",
        "\n",
        "device = 'cpu'\n",
        "\n",
        "# Desabilitar o cálculo de gradiente para economizar memória e acelerar a inferência\n",
        "model.eval()\n",
        "with torch.inference_mode():\n",
        "    for inputs, labels in new_dataloader_validation:\n",
        "        inputs = inputs.to(device)\n",
        "        labels = labels.to(device)\n",
        "\n",
        "        inputs = inputs.unsqueeze(1)\n",
        "\n",
        "        # Forward pass\n",
        "        outputs = model(inputs)\n",
        "\n",
        "        # Obter as predições (classe com maior pontuação)\n",
        "        _, preds = torch.max(outputs, 1)\n",
        "\n",
        "        # Acumular os resultados\n",
        "        y_true.extend(labels.cpu().numpy())\n",
        "        y_pred.extend(preds.cpu().numpy())\n",
        "\n",
        "# Calcular a matriz de confusão\n",
        "conf_matrix = confusion_matrix(y_true, y_pred, labels=[0, 1, 2, 3, 4])\n",
        "\n",
        "# Contar os valores originais de cada classe no dataset\n",
        "unique, counts = np.unique(y_true, return_counts=True)\n",
        "original_counts = dict(zip(unique, counts))\n",
        "\n",
        "# Inicializar DataFrame para armazenar os resultados\n",
        "results = pd.DataFrame(index=['Normal', 'DOS', 'FUZZ', 'FALSIFIYNG', 'IMPERSONATION'],\n",
        "                       columns=['Contagem original', 'TP', 'FP', 'FN'])\n",
        "\n",
        "# Preencher DataFrame com Original Count, TP, FP, FN para cada classe\n",
        "for i in range(5):\n",
        "    TP = conf_matrix[i, i]\n",
        "    FP = conf_matrix[:, i].sum() - TP\n",
        "    FN = conf_matrix[i, :].sum() - TP\n",
        "    original_count = original_counts.get(i, 0)  # Get the count of the class, default to 0 if not present\n",
        "    results.iloc[i] = [original_count, TP, FP, FN]\n",
        "\n",
        "# Exibir a tabela formatada usando tabulate\n",
        "print(tabulate(results, headers='keys', tablefmt='pretty'))"
      ],
      "metadata": {
        "id": "s41ed-R8OrsC",
        "colab": {
          "base_uri": "https://localhost:8080/"
        },
        "outputId": "1834ab56-0f26-45cb-836b-53411116876e"
      },
      "execution_count": null,
      "outputs": [
        {
          "output_type": "stream",
          "name": "stdout",
          "text": [
            "+---------------+-------------------+-------+-----+-----+\n",
            "|               | Contagem original |  TP   | FP  | FN  |\n",
            "+---------------+-------------------+-------+-----+-----+\n",
            "|    Normal     |       4464        | 4427  | 96  | 37  |\n",
            "|      DOS      |       12500       | 12281 | 277 | 219 |\n",
            "|     FUZZ      |       12500       | 11831 | 177 | 669 |\n",
            "|  FALSIFIYNG   |       12500       | 12389 | 297 | 111 |\n",
            "| IMPERSONATION |       12500       | 12395 | 294 | 105 |\n",
            "+---------------+-------------------+-------+-----+-----+\n"
          ]
        }
      ]
    },
    {
      "cell_type": "code",
      "source": [],
      "metadata": {
        "id": "9qVhuulgMphq"
      },
      "execution_count": null,
      "outputs": []
    },
    {
      "cell_type": "code",
      "source": [
        "print(tabulate(results, headers='keys', tablefmt='pretty'))"
      ],
      "metadata": {
        "id": "Bh5BZdjiObBS",
        "colab": {
          "base_uri": "https://localhost:8080/"
        },
        "outputId": "215031a2-e671-471c-9022-e39cbdfe5248"
      },
      "execution_count": null,
      "outputs": [
        {
          "output_type": "stream",
          "name": "stdout",
          "text": [
            "+---------------+-------------------+-------+-----+-----+\n",
            "|               | Contagem original |  TP   | FP  | FN  |\n",
            "+---------------+-------------------+-------+-----+-----+\n",
            "|    Normal     |       4464        | 4427  | 96  | 37  |\n",
            "|      DOS      |       12500       | 12281 | 277 | 219 |\n",
            "|     FUZZ      |       12500       | 11831 | 177 | 669 |\n",
            "|  FALSIFIYNG   |       12500       | 12389 | 297 | 111 |\n",
            "| IMPERSONATION |       12500       | 12395 | 294 | 105 |\n",
            "+---------------+-------------------+-------+-----+-----+\n"
          ]
        }
      ]
    },
    {
      "cell_type": "code",
      "source": [
        "# import csv\n",
        "# import re\n",
        "\n",
        "FOLDER_PATH = '/content/drive/MyDrive/Datasets/redes_automotivas' + '/novo'\n",
        "\n",
        "# txt_files_content = []\n",
        "\n",
        "# file_names = ['FALSIFYING_ATCK.txt', 'FUZZING_ATCK.txt', 'IMPERSONATION_ATCK.txt', 'DOS_ATCK.txt']\n",
        "\n",
        "# for file_name in file_names:\n",
        "#   txt_file_path = FOLDER_PATH + '/' + file_name\n",
        "#   # Read the content of the TXT file\n",
        "#   with open(txt_file_path, 'r') as file:\n",
        "#       txt_files_content.append(file.readlines())\n",
        "\n",
        "# for count, txt_file_content in enumerate(txt_files_content):\n",
        "#   csv_file_path = FOLDER_PATH + '/csv/' + file_names[count].split('.')[0] + '.csv'\n",
        "#   with open(csv_file_path, 'w', newline='') as csvfile:\n",
        "#       csvwriter = csv.writer(csvfile)\n",
        "#       csvwriter.writerow(column_titles)\n",
        "#       for line in txt_file_content:\n",
        "#           row = re.split(r'\\s+', line.strip())  # Split by one or more whitespace characters\n",
        "#           csvwriter.writerow(row)"
      ],
      "metadata": {
        "id": "ZE5Xl86ROdfo"
      },
      "execution_count": null,
      "outputs": []
    },
    {
      "cell_type": "code",
      "source": [
        "dos_df = pd.read_csv(FOLDER_PATH + '/csv/' + 'DOS_ATCK.csv')\n",
        "normalized_df_dos, labels_dos = create_matrices_and_labels(dos_df, 'DOS')\n",
        "\n",
        "fuzz_df = pd.read_csv(FOLDER_PATH + '/csv/' + 'FUZZING_ATCK.csv')\n",
        "normalized_df_fuzz, labels_fuzz = create_matrices_and_labels(fuzz_df, 'FUZZ')\n",
        "\n",
        "impersonation_df = pd.read_csv(FOLDER_PATH + '/csv/' + 'IMPERSONATION_ATCK.csv')\n",
        "normalized_df_impersonation, labels_impersonation = create_matrices_and_labels(impersonation_df, 'IMPERSONATION')\n",
        "\n",
        "false_df = pd.read_csv(FOLDER_PATH + '/csv/' + 'FALSIFYING_ATCK.csv')\n",
        "normalized_df_false, labels_false = create_matrices_and_labels(false_df, 'FALSIFYING')"
      ],
      "metadata": {
        "id": "qohd7TMEfxrb",
        "colab": {
          "base_uri": "https://localhost:8080/"
        },
        "outputId": "0a8e4b4f-d382-413b-f314-7371a8b8f5ff"
      },
      "execution_count": null,
      "outputs": [
        {
          "output_type": "stream",
          "name": "stdout",
          "text": [
            "num_matrices: 3019\n",
            "num_matrices: 2577\n",
            "num_matrices: 2611\n",
            "num_matrices: 2789\n"
          ]
        }
      ]
    },
    {
      "cell_type": "code",
      "source": [
        "all_validation = normalized_df_dos + normalized_df_fuzz + normalized_df_impersonation + normalized_df_false\n",
        "all_labels = labels_dos + labels_fuzz + labels_impersonation + labels_false"
      ],
      "metadata": {
        "id": "Axr2T7xHgYwL"
      },
      "execution_count": null,
      "outputs": []
    },
    {
      "cell_type": "code",
      "source": [
        "\n",
        "# Criar uma instância do dataset de validação\n",
        "validation_dataset = CustomDataset(all_validation, all_labels)\n",
        "\n",
        "# Criar o DataLoader\n",
        "dataloader_validation = DataLoader(validation_dataset, batch_size=32, shuffle=True)"
      ],
      "metadata": {
        "id": "Ouvi9K8SgtxA"
      },
      "execution_count": null,
      "outputs": []
    },
    {
      "cell_type": "code",
      "source": [
        "y_true = []\n",
        "y_pred = []\n",
        "\n",
        "# Desabilitar o cálculo de gradiente para economizar memória e acelerar a inferência\n",
        "with torch.no_grad():\n",
        "    for inputs, labels in dataloader_validation:\n",
        "        inputs = inputs.to(device)\n",
        "        labels = labels.to(device)\n",
        "\n",
        "        inputs = inputs.unsqueeze(1)\n",
        "\n",
        "        # Forward pass\n",
        "        outputs = model(inputs)\n",
        "\n",
        "        # Obter as predições (classe com maior pontuação)\n",
        "        _, preds = torch.max(outputs, 1)\n",
        "\n",
        "        # Acumular os resultados\n",
        "        y_true.extend(labels.cpu().numpy())\n",
        "        y_pred.extend(preds.cpu().numpy())\n",
        "\n",
        "# Calcular a matriz de confusão\n",
        "conf_matrix = confusion_matrix(y_true, y_pred, labels=[0, 1, 2, 3, 4])\n",
        "\n",
        "# Contar os valores originais de cada classe no dataset\n",
        "unique, counts = np.unique(y_true, return_counts=True)\n",
        "original_counts = dict(zip(unique, counts))\n",
        "\n",
        "# Inicializar DataFrame para armazenar os resultados\n",
        "results = pd.DataFrame(index=['Normal', 'DOS', 'FUZZ', 'FALSIFIYNG', 'IMPERSONATION'],\n",
        "                       columns=['Contagem original', 'TP', 'FP', 'FN'])\n",
        "\n",
        "# Preencher DataFrame com Original Count, TP, FP, FN para cada classe\n",
        "for i in range(5):\n",
        "    TP = conf_matrix[i, i]\n",
        "    FP = conf_matrix[:, i].sum() - TP\n",
        "    FN = conf_matrix[i, :].sum() - TP\n",
        "    original_count = original_counts.get(i, 0)  # Get the count of the class, default to 0 if not present\n",
        "    results.iloc[i] = [original_count, TP, FP, FN]\n",
        "\n",
        "# Exibir a tabela formatada usando tabulate\n",
        "print(tabulate(results, headers='keys', tablefmt='pretty'))"
      ],
      "metadata": {
        "id": "uL3y2Ux1g23x",
        "colab": {
          "base_uri": "https://localhost:8080/"
        },
        "outputId": "39cb122a-c8f2-4720-97d8-7d0f5935071d"
      },
      "execution_count": null,
      "outputs": [
        {
          "output_type": "stream",
          "name": "stdout",
          "text": [
            "+---------------+-------------------+-----+------+------+\n",
            "|               | Contagem original | TP  |  FP  |  FN  |\n",
            "+---------------+-------------------+-----+------+------+\n",
            "|    Normal     |       7861        | 120 |  20  | 7741 |\n",
            "|      DOS      |       1240        | 978 | 492  | 262  |\n",
            "|     FUZZ      |        58         | 11  | 999  |  47  |\n",
            "|  FALSIFIYNG   |        831        | 691 | 6040 | 140  |\n",
            "| IMPERSONATION |       1006        | 832 | 813  | 174  |\n",
            "+---------------+-------------------+-----+------+------+\n"
          ]
        }
      ]
    },
    {
      "cell_type": "code",
      "source": [
        "def create_matrices_and_labels2(df, num_rows=28, overlap=14):\n",
        "    matrices = []\n",
        "    labels = []\n",
        "    step_size = num_rows - overlap  # Tamanho do passo para a sobreposição\n",
        "\n",
        "    num_matrices = (len(df) - overlap) // step_size\n",
        "    print('num_matrices:', num_matrices)\n",
        "\n",
        "    for i in range(num_matrices):\n",
        "        start_idx = i * step_size\n",
        "        block = df.iloc[start_idx:start_idx + num_rows]\n",
        "        if block.empty or len(block) < num_rows:\n",
        "            continue\n",
        "\n",
        "        binary_matrix = []\n",
        "        for hex_value in block['data']:\n",
        "            hex_value = hex_value.split('#')[0]\n",
        "            binary_string = bin(int(hex_value, 16))[2:].zfill(16)\n",
        "            binary_list = [int(bit) for bit in binary_string]\n",
        "            binary_matrix.append(binary_list)\n",
        "\n",
        "        if len(binary_matrix) == num_rows and all(len(row) == 16 for row in binary_matrix):\n",
        "            matrix = torch.tensor(binary_matrix, dtype=torch.float32)\n",
        "            label = 1 if 'T' in block['label'].values else 0\n",
        "            matrices.append(matrix)\n",
        "            labels.append(label)\n",
        "\n",
        "    return matrices, labels"
      ],
      "metadata": {
        "id": "I9Z-JBTHhes6"
      },
      "execution_count": null,
      "outputs": []
    },
    {
      "cell_type": "markdown",
      "source": [
        "### Novo modelo (classificador binário)"
      ],
      "metadata": {
        "id": "_ga7VMvrguch"
      }
    },
    {
      "cell_type": "code",
      "source": [
        "dos_df = pd.read_csv(FOLDER_PATH + '/csv/' + 'DOS_ATCK.csv')\n",
        "normalized_df_dos, labels_dos = create_matrices_and_labels2(dos_df)\n",
        "\n",
        "fuzz_df = pd.read_csv(FOLDER_PATH + '/csv/' + 'FUZZING_ATCK.csv')\n",
        "normalized_df_fuzz, labels_fuzz = create_matrices_and_labels2(fuzz_df)\n",
        "\n",
        "impersonation_df = pd.read_csv(FOLDER_PATH + '/csv/' + 'IMPERSONATION_ATCK.csv')\n",
        "normalized_df_impersonation, labels_impersonation = create_matrices_and_labels2(impersonation_df)\n",
        "\n",
        "false_df = pd.read_csv(FOLDER_PATH + '/csv/' + 'FALSIFYING_ATCK.csv')\n",
        "normalized_df_false, labels_false = create_matrices_and_labels2(false_df)"
      ],
      "metadata": {
        "id": "lvrTWsXpJxJg",
        "colab": {
          "base_uri": "https://localhost:8080/"
        },
        "outputId": "47587097-26e8-427c-a64c-099582a19385"
      },
      "execution_count": null,
      "outputs": [
        {
          "output_type": "stream",
          "name": "stdout",
          "text": [
            "num_matrices: 3019\n",
            "num_matrices: 2577\n",
            "num_matrices: 2611\n",
            "num_matrices: 2789\n"
          ]
        }
      ]
    },
    {
      "cell_type": "code",
      "source": [
        "dos_df_train, dos_df_val, labels_train_dos, labels_val_dos = train_test_split(normalized_df_dos, labels_dos, test_size=0.25, random_state=42)\n",
        "fuzz_df_train, fuzz_df_val, labels_train_fuzz, labels_val_fuzz = train_test_split(normalized_df_fuzz, labels_fuzz, test_size=0.25, random_state=42)\n",
        "impersonation_df_train, impersonation_df_val, labels_train_impersonation, labels_val_impersonation = train_test_split(normalized_df_impersonation, labels_impersonation, test_size=0.25, random_state=42)\n",
        "false_df_train, false_df_val, labels_train_false, labels_val_false = train_test_split(normalized_df_false, labels_false, test_size=0.25, random_state=42)"
      ],
      "metadata": {
        "id": "wsbxQO9WgyZ_"
      },
      "execution_count": null,
      "outputs": []
    },
    {
      "cell_type": "code",
      "source": [
        "#train\n",
        "all_matrices_train = normal_df_train + dos_df_train + fuzz_df_train + impersonation_df_train + false_df_train\n",
        "all_labels_train = labels_train + labels_train_dos + labels_train_fuzz + labels_train_impersonation + labels_train_false\n",
        "\n",
        "#validation\n",
        "all_matrices_validation = normal_df_val + dos_df_val + fuzz_df_val + impersonation_df_val + false_df_val\n",
        "all_labels_validation = labels_val + labels_val_dos + labels_val_fuzz + labels_val_impersonation + labels_val_false"
      ],
      "metadata": {
        "id": "-r4UxtbVhUpQ"
      },
      "execution_count": null,
      "outputs": []
    },
    {
      "cell_type": "code",
      "source": [
        "# Criar uma instância do dataset de treino\n",
        "train_dataset = CustomDataset(all_matrices_train, all_labels_train)\n",
        "\n",
        "# Criar o DataLoader\n",
        "dataloader_train = DataLoader(train_dataset, batch_size=32, shuffle=True)\n",
        "\n",
        "\n",
        "# Criar uma instância do dataset de validação\n",
        "validation_dataset = CustomDataset(all_matrices_validation, all_labels_validation)\n",
        "\n",
        "# Criar o DataLoader\n",
        "dataloader_validation = DataLoader(validation_dataset, batch_size=32, shuffle=True)"
      ],
      "metadata": {
        "id": "-yHJwqc-hfX1"
      },
      "execution_count": null,
      "outputs": []
    },
    {
      "cell_type": "markdown",
      "source": [
        "### Treino do novo modelo"
      ],
      "metadata": {
        "id": "B2isQ-lrhahw"
      }
    },
    {
      "cell_type": "code",
      "source": [
        "from torchvision.models import efficientnet_b0, EfficientNet_B0_Weights\n",
        "from torchvision.models._api import WeightsEnum\n",
        "from torch.hub import load_state_dict_from_url\n",
        "\n",
        "def get_state_dict(self, *args, **kwargs):\n",
        "    kwargs.pop(\"check_hash\")\n",
        "    return load_state_dict_from_url(self.url, *args, **kwargs)\n",
        "WeightsEnum.get_state_dict = get_state_dict\n",
        "\n",
        "eff_b0_imgnet = efficientnet_b0(weights=EfficientNet_B0_Weights.IMAGENET1K_V1)"
      ],
      "metadata": {
        "id": "25PxQKIbhmds",
        "colab": {
          "base_uri": "https://localhost:8080/"
        },
        "outputId": "03df2d36-f13e-4101-f9a5-0b98e7393045"
      },
      "execution_count": null,
      "outputs": [
        {
          "output_type": "stream",
          "name": "stderr",
          "text": [
            "Downloading: \"https://download.pytorch.org/models/efficientnet_b0_rwightman-7f5810bc.pth\" to /root/.cache/torch/hub/checkpoints/efficientnet_b0_rwightman-7f5810bc.pth\n",
            "100%|██████████| 20.5M/20.5M [00:00<00:00, 125MB/s] \n"
          ]
        }
      ]
    },
    {
      "cell_type": "code",
      "source": [
        "try:\n",
        "  from torchinfo import summary\n",
        "except:\n",
        "  !pip install torchinfo\n",
        "  from torchinfo import summary"
      ],
      "metadata": {
        "id": "5Vg-NVo1hphM"
      },
      "execution_count": null,
      "outputs": []
    },
    {
      "cell_type": "code",
      "source": [
        "for param in eff_b0_imgnet.parameters():\n",
        "    param.requires_grad = False\n",
        "\n",
        "def set_random_seed(SEED):\n",
        "  torch.manual_seed(SEED)\n",
        "  torch.cuda.manual_seed(SEED)\n",
        "\n",
        "set_random_seed(42)\n",
        "\n",
        "out_ftrs = 2\n",
        "\n",
        "eff_b0_imgnet.features[0][0] = nn.Conv2d(1, 32, kernel_size=(3, 3), stride=(2, 2), padding=(1, 1), bias=False)\n",
        "num_ftrs = eff_b0_imgnet.classifier[1].in_features\n",
        "eff_b0_imgnet.classifier[1] = nn.Linear(num_ftrs, out_ftrs)\n",
        "\n",
        "\n",
        "summary(eff_b0_imgnet, input_size=(32, 1, 28, 16))"
      ],
      "metadata": {
        "id": "xBR7RRODhtvE",
        "colab": {
          "base_uri": "https://localhost:8080/"
        },
        "outputId": "e18b9026-01dd-4200-8c6e-9052b9543bd2"
      },
      "execution_count": null,
      "outputs": [
        {
          "output_type": "execute_result",
          "data": {
            "text/plain": [
              "=========================================================================================================\n",
              "Layer (type:depth-idx)                                  Output Shape              Param #\n",
              "=========================================================================================================\n",
              "EfficientNet                                            [32, 2]                   --\n",
              "├─Sequential: 1-1                                       [32, 1280, 1, 1]          --\n",
              "│    └─Conv2dNormActivation: 2-1                        [32, 32, 14, 8]           --\n",
              "│    │    └─Conv2d: 3-1                                 [32, 32, 14, 8]           288\n",
              "│    │    └─BatchNorm2d: 3-2                            [32, 32, 14, 8]           (64)\n",
              "│    │    └─SiLU: 3-3                                   [32, 32, 14, 8]           --\n",
              "│    └─Sequential: 2-2                                  [32, 16, 14, 8]           --\n",
              "│    │    └─MBConv: 3-4                                 [32, 16, 14, 8]           (1,448)\n",
              "│    └─Sequential: 2-3                                  [32, 24, 7, 4]            --\n",
              "│    │    └─MBConv: 3-5                                 [32, 24, 7, 4]            (6,004)\n",
              "│    │    └─MBConv: 3-6                                 [32, 24, 7, 4]            (10,710)\n",
              "│    └─Sequential: 2-4                                  [32, 40, 4, 2]            --\n",
              "│    │    └─MBConv: 3-7                                 [32, 40, 4, 2]            (15,350)\n",
              "│    │    └─MBConv: 3-8                                 [32, 40, 4, 2]            (31,290)\n",
              "│    └─Sequential: 2-5                                  [32, 80, 2, 1]            --\n",
              "│    │    └─MBConv: 3-9                                 [32, 80, 2, 1]            (37,130)\n",
              "│    │    └─MBConv: 3-10                                [32, 80, 2, 1]            (102,900)\n",
              "│    │    └─MBConv: 3-11                                [32, 80, 2, 1]            (102,900)\n",
              "│    └─Sequential: 2-6                                  [32, 112, 2, 1]           --\n",
              "│    │    └─MBConv: 3-12                                [32, 112, 2, 1]           (126,004)\n",
              "│    │    └─MBConv: 3-13                                [32, 112, 2, 1]           (208,572)\n",
              "│    │    └─MBConv: 3-14                                [32, 112, 2, 1]           (208,572)\n",
              "│    └─Sequential: 2-7                                  [32, 192, 1, 1]           --\n",
              "│    │    └─MBConv: 3-15                                [32, 192, 1, 1]           (262,492)\n",
              "│    │    └─MBConv: 3-16                                [32, 192, 1, 1]           (587,952)\n",
              "│    │    └─MBConv: 3-17                                [32, 192, 1, 1]           (587,952)\n",
              "│    │    └─MBConv: 3-18                                [32, 192, 1, 1]           (587,952)\n",
              "│    └─Sequential: 2-8                                  [32, 320, 1, 1]           --\n",
              "│    │    └─MBConv: 3-19                                [32, 320, 1, 1]           (717,232)\n",
              "│    └─Conv2dNormActivation: 2-9                        [32, 1280, 1, 1]          --\n",
              "│    │    └─Conv2d: 3-20                                [32, 1280, 1, 1]          (409,600)\n",
              "│    │    └─BatchNorm2d: 3-21                           [32, 1280, 1, 1]          (2,560)\n",
              "│    │    └─SiLU: 3-22                                  [32, 1280, 1, 1]          --\n",
              "├─AdaptiveAvgPool2d: 1-2                                [32, 1280, 1, 1]          --\n",
              "├─Sequential: 1-3                                       [32, 2]                   --\n",
              "│    └─Dropout: 2-10                                    [32, 1280]                --\n",
              "│    └─Linear: 2-11                                     [32, 2]                   2,562\n",
              "=========================================================================================================\n",
              "Total params: 4,009,534\n",
              "Trainable params: 2,850\n",
              "Non-trainable params: 4,006,684\n",
              "Total mult-adds (M): 182.66\n",
              "=========================================================================================================\n",
              "Input size (MB): 0.06\n",
              "Forward/backward pass size (MB): 38.11\n",
              "Params size (MB): 16.04\n",
              "Estimated Total Size (MB): 54.20\n",
              "========================================================================================================="
            ]
          },
          "metadata": {},
          "execution_count": 39
        }
      ]
    },
    {
      "cell_type": "code",
      "source": [
        "from IPython.display import clear_output\n",
        "import copy\n",
        "\n",
        "def accuracy_fn(y_true, y_pred):\n",
        "    correct = torch.eq(y_true, y_pred).sum().item()\n",
        "    acc = (correct / len(y_pred)) * 100\n",
        "    return acc\n",
        "\n",
        "def print_loss(train_loss, test_loss, train_acc, test_acc):\n",
        "    clear_output(wait=True)\n",
        "    x_values1, y_values1 = zip(*train_loss)\n",
        "    x_values2, y_values2 = zip(*test_loss)\n",
        "    x_values3, y_values3 = zip(*train_acc)\n",
        "    x_values4, y_values4 = zip(*test_acc)\n",
        "\n",
        "    fig, axs = plt.subplots(2, 1, figsize=(10, 8))\n",
        "\n",
        "\n",
        "    axs[0].plot(x_values1, y_values1, linestyle='-', label='train loss')\n",
        "    axs[0].plot(x_values2, y_values2, linestyle='--', label='test loss')\n",
        "\n",
        "    axs[0].set_xlabel('Épocas')\n",
        "    axs[0].set_ylabel('Valor da loss')\n",
        "    axs[0].set_title('Variação da loss de treino e teste')\n",
        "    axs[0].legend()\n",
        "\n",
        "    axs[1].plot(x_values3, y_values3, linestyle='-', label='train accuracy')\n",
        "    axs[1].plot(x_values4, y_values4, linestyle='--', label='test accuracy')\n",
        "\n",
        "    axs[1].set_xlabel('Épocas')\n",
        "    axs[1].set_ylabel('Valor da Precisão')\n",
        "    axs[1].set_title('Variação da precisão de treino e teste')\n",
        "    axs[1].legend()\n",
        "\n",
        "    plt.show()\n",
        "\n",
        "def train_model(model, train_dataloader, validation_dataloader, loss_fn, optimizer, device='cpu', epochs=10, scheduler=None, unfreeze_step = None):\n",
        "  model = model.to(device)\n",
        "\n",
        "  best_model_wts = copy.deepcopy(model.state_dict())\n",
        "  best_acc = 0.0\n",
        "\n",
        "  train_loss_list = []\n",
        "  test_loss_list = []\n",
        "  train_acc_list = []\n",
        "  test_acc_list = []\n",
        "\n",
        "  for epoch in range(epochs):\n",
        "\n",
        "    print(f'Starting train for epoch {epoch + 1}')\n",
        "\n",
        "    train_loss = 0\n",
        "    train_acc = 0\n",
        "\n",
        "    for batch, (X, y) in enumerate(train_dataloader):\n",
        "\n",
        "      # print(f'Starting training batch: {batch + 1}')\n",
        "      model.train()\n",
        "\n",
        "      X, y = X.to(device), y.to(device)\n",
        "\n",
        "      X = X.unsqueeze(1)\n",
        "\n",
        "      y_logits = model(X)\n",
        "\n",
        "      y_pred = torch.softmax(y_logits, dim=1).argmax(dim=1)\n",
        "\n",
        "      train_acc += accuracy_fn(y_true=y, y_pred=y_pred)\n",
        "\n",
        "      loss = loss_fn(y_logits, y)\n",
        "\n",
        "      train_loss += loss.item()\n",
        "\n",
        "      optimizer.zero_grad()\n",
        "\n",
        "      loss.backward()\n",
        "\n",
        "      optimizer.step()\n",
        "\n",
        "    train_loss /= len(train_dataloader)\n",
        "    train_acc /= len(train_dataloader)\n",
        "\n",
        "    test_loss, test_acc = 0, 0\n",
        "\n",
        "    model.eval()\n",
        "\n",
        "    print(f'Starting validation for epoch {epoch + 1}')\n",
        "\n",
        "    with torch.inference_mode():\n",
        "      for batch, (X, y) in enumerate(validation_dataloader):\n",
        "        # print(f'Starting validation batch: {batch + 1}')\n",
        "        X, y = X.to(device), y.to(device)\n",
        "        X = X.unsqueeze(1)\n",
        "\n",
        "        test_logits = model(X)\n",
        "        test_pred = torch.softmax(test_logits, dim=1).argmax(dim=1)\n",
        "\n",
        "        test_loss += loss_fn(test_logits, y)\n",
        "        test_acc += accuracy_fn(y_true=y,\n",
        "                                y_pred=test_pred)\n",
        "      test_loss /= len(validation_dataloader)\n",
        "      test_acc /= len(validation_dataloader)\n",
        "      if scheduler != None:\n",
        "        scheduler.step()\n",
        "\n",
        "    if test_acc > best_acc:\n",
        "      best_acc = test_acc\n",
        "      best_model_wts = copy.deepcopy(model.state_dict())\n",
        "\n",
        "    print(f'Ending epoch ${epoch + 1}')\n",
        "    train_loss_list.append((epoch, train_loss))\n",
        "    test_loss_list.append((epoch, test_loss.item()))\n",
        "    train_acc_list.append((epoch, train_acc))\n",
        "    test_acc_list.append((epoch, test_acc))\n",
        "    print(type(train_loss), type(test_loss), type(train_acc), type(test_acc))\n",
        "    print_loss(train_loss_list, test_loss_list, train_acc_list, test_acc_list)\n",
        "    print(f\"Loss: {loss:.5f} | Test Loss: {test_loss:.5f}, Test Acc: {test_acc:.2f}%\")\n",
        "\n",
        "  model.load_state_dict(best_model_wts)\n",
        "  return model"
      ],
      "metadata": {
        "id": "9fM5-2D3h1Nu"
      },
      "execution_count": null,
      "outputs": []
    },
    {
      "cell_type": "code",
      "source": [
        "import torch.optim as optim\n",
        "\n",
        "set_random_seed(42)\n",
        "\n",
        "loss_fn = nn.CrossEntropyLoss()\n",
        "optimizer = optim.SGD(params=eff_b0_imgnet.parameters(), lr=0.01)\n",
        "scheduler = optim.lr_scheduler.StepLR(optimizer, step_size=28, gamma=0.1)"
      ],
      "metadata": {
        "id": "ulFUpxDrh4hE"
      },
      "execution_count": null,
      "outputs": []
    },
    {
      "cell_type": "code",
      "source": [
        "new_model = train_model(\n",
        "    eff_b0_imgnet,\n",
        "    dataloader_train,\n",
        "    dataloader_validation,\n",
        "    loss_fn,\n",
        "    optimizer,\n",
        "    'cuda',\n",
        "    50,\n",
        "    scheduler\n",
        ")"
      ],
      "metadata": {
        "id": "IxRDRG6Oh_ec",
        "colab": {
          "base_uri": "https://localhost:8080/",
          "height": 737
        },
        "outputId": "6d2f4549-a992-4d0b-891a-cf740879ea44"
      },
      "execution_count": null,
      "outputs": [
        {
          "output_type": "display_data",
          "data": {
            "text/plain": [
              "<Figure size 1000x800 with 2 Axes>"
            ],
            "image/png": "[encoded data removed]"
          },
          "metadata": {}
        },
        {
          "output_type": "stream",
          "name": "stdout",
          "text": [
            "Loss: 1.00702 | Test Loss: 0.21276, Test Acc: 93.36%\n"
          ]
        }
      ]
    },
    {
      "cell_type": "code",
      "source": [
        "torch.save(new_model.state_dict(), f'{FOLDER_PATH}/new_model')"
      ],
      "metadata": {
        "id": "hGuRTPGCiFor"
      },
      "execution_count": null,
      "outputs": []
    },
    {
      "cell_type": "markdown",
      "source": [
        "### Validando novo modelo"
      ],
      "metadata": {
        "id": "to_D6vv38C01"
      }
    },
    {
      "cell_type": "code",
      "source": [
        "fuzz_dataset, fuzz_labels = create_matrices_and_labels2(fuzz_df)\n",
        "fuzz_dataset = CustomDataset(fuzz_dataset, fuzz_labels)\n",
        "\n",
        "# Criar o DataLoader\n",
        "fuzz_dataloader = DataLoader(fuzz_dataset, batch_size=1, shuffle=True)\n",
        "print(get_model_accuracy(new_model, fuzz_dataloader))\n",
        "print_confussion_matrix(new_model, fuzz_dataloader)"
      ],
      "metadata": {
        "colab": {
          "base_uri": "https://localhost:8080/",
          "height": 465
        },
        "id": "cioHGIwzpr4E",
        "outputId": "101e6134-47dd-4994-d78f-895cc519fd5e"
      },
      "execution_count": null,
      "outputs": [
        {
          "output_type": "stream",
          "name": "stdout",
          "text": [
            "num_matrices: 2577\n",
            "97.05083430345363\n"
          ]
        },
        {
          "output_type": "display_data",
          "data": {
            "text/plain": [
              "<Figure size 640x480 with 2 Axes>"
            ],
            "image/png": "[encoded data removed]"
          },
          "metadata": {}
        }
      ]
    },
    {
      "cell_type": "code",
      "source": [
        "dos_dataset, dos_labels = create_matrices_and_labels2(dos_df)\n",
        "dos_dataset = CustomDataset(dos_dataset, dos_labels)\n",
        "\n",
        "# Criar o DataLoader\n",
        "dos_dataloader = DataLoader(dos_dataset, batch_size=1, shuffle=True)\n",
        "print(get_model_accuracy(new_model, dos_dataloader))\n",
        "print_confussion_matrix(new_model, dos_dataloader)"
      ],
      "metadata": {
        "colab": {
          "base_uri": "https://localhost:8080/",
          "height": 465
        },
        "id": "UP4ty2bU8I_5",
        "outputId": "bc086f9e-2063-43be-efab-795e87624542"
      },
      "execution_count": null,
      "outputs": [
        {
          "output_type": "stream",
          "name": "stdout",
          "text": [
            "num_matrices: 3019\n",
            "87.31368002649884\n"
          ]
        },
        {
          "output_type": "display_data",
          "data": {
            "text/plain": [
              "<Figure size 640x480 with 2 Axes>"
            ],
            "image/png": "[encoded data removed]"
          },
          "metadata": {}
        }
      ]
    },
    {
      "cell_type": "code",
      "source": [
        "false_dataset, false_labels = create_matrices_and_labels2(false_df)\n",
        "false_dataset = CustomDataset(false_dataset, false_labels)\n",
        "\n",
        "# Criar o DataLoader\n",
        "false_dataloader = DataLoader(false_dataset, batch_size=1, shuffle=True)\n",
        "print(get_model_accuracy(new_model, false_dataloader))\n",
        "print_confussion_matrix(new_model, false_dataloader)"
      ],
      "metadata": {
        "colab": {
          "base_uri": "https://localhost:8080/",
          "height": 465
        },
        "id": "n1G9PeW38ncd",
        "outputId": "179f0885-c2e4-440a-a5f7-16007aff399b"
      },
      "execution_count": null,
      "outputs": [
        {
          "output_type": "stream",
          "name": "stdout",
          "text": [
            "num_matrices: 2789\n",
            "85.048404446038\n"
          ]
        },
        {
          "output_type": "display_data",
          "data": {
            "text/plain": [
              "<Figure size 640x480 with 2 Axes>"
            ],
            "image/png": "[encoded data removed]"
          },
          "metadata": {}
        }
      ]
    },
    {
      "cell_type": "code",
      "source": [
        "impersonation_dataset, impersonation_labels = create_matrices_and_labels2(impersonation_df)\n",
        "impersonation_dataset = CustomDataset(impersonation_dataset, impersonation_labels)\n",
        "\n",
        "# Criar o DataLoader\n",
        "impersonation_dataloader = DataLoader(impersonation_dataset, batch_size=1, shuffle=True)\n",
        "print(get_model_accuracy(new_model, impersonation_dataloader))\n",
        "print_confussion_matrix(new_model, impersonation_dataloader)"
      ],
      "metadata": {
        "colab": {
          "base_uri": "https://localhost:8080/",
          "height": 465
        },
        "id": "wHUkVxQW9D79",
        "outputId": "e3309a76-b1c6-44e9-dcb9-e1f0034548ef"
      },
      "execution_count": null,
      "outputs": [
        {
          "output_type": "stream",
          "name": "stdout",
          "text": [
            "num_matrices: 2611\n",
            "68.74760628111835\n"
          ]
        },
        {
          "output_type": "display_data",
          "data": {
            "text/plain": [
              "<Figure size 640x480 with 2 Axes>"
            ],
            "image/png": "[encoded data removed]"
          },
          "metadata": {}
        }
      ]
    },
    {
      "cell_type": "code",
      "source": [],
      "metadata": {
        "id": "0Ec2tir49yZN"
      },
      "execution_count": null,
      "outputs": []
    }
  ],
  "metadata": {
    "colab": {
      "machine_shape": "hm",
      "provenance": [],
      "collapsed_sections": [
        "-iDmW3jifFPZ"
      ],
      "gpuType": "T4"
    },
    "kernelspec": {
      "display_name": "Python 3",
      "name": "python3"
    },
    "language_info": {
      "name": "python"
    },
    "accelerator": "GPU"
  },
  "nbformat": 4,
  "nbformat_minor": 0
}